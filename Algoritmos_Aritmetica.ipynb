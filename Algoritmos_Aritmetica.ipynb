{
  "nbformat": 4,
  "nbformat_minor": 0,
  "metadata": {
    "colab": {
      "provenance": [],
      "authorship_tag": "ABX9TyMB7bbaoBznG3KB2Tvm05kh",
      "include_colab_link": true
    },
    "kernelspec": {
      "name": "python3",
      "display_name": "Python 3"
    },
    "language_info": {
      "name": "python"
    }
  },
  "cells": [
    {
      "cell_type": "markdown",
      "metadata": {
        "id": "view-in-github",
        "colab_type": "text"
      },
      "source": [
        "<a href=\"https://colab.research.google.com/github/LucioFassarella/COMQ/blob/main/Algoritmos_Aritmetica.ipynb\" target=\"_parent\"><img src=\"https://colab.research.google.com/assets/colab-badge.svg\" alt=\"Open In Colab\"/></a>"
      ]
    },
    {
      "cell_type": "markdown",
      "source": [
        "# Algoritmos Elementares para Aritmética\n",
        "\n",
        "$$\n",
        "\\mathbb{Z}\n",
        "$$\n",
        "\n",
        "## Exercícios\n",
        "\n",
        "1.   Elabore e programe um algoritmo para determinar o menor inteiro de um dado conjunto de inteiros, utilizando apenas a *relação de ordem* e a *operação de adição*.\n",
        "    *   Input: conjunto de inteiros:\n",
        "    $$\n",
        "    A = \\left\\lbrace a_1, \\dots, a_n \\right\\rbrace \\subset \\mathbb{Z}.\n",
        "    $$\n",
        "    *   Output: inteiro:\n",
        "    $$\n",
        "    \\min A \\in \\mathbb{Z}.\n",
        "    $$\n",
        "    *   Relações e operações admitidas: ordem e adição.\n",
        "    $$\n",
        "    \\diamond\n",
        "    $$\n",
        "\n",
        "2.   Elabore e programe um algoritmo para calcular o quociente e o resto da divisão euclideana de um inteiro por outro, utilizando apenas a *relação de ordem* e as *operações de adição* e *multiplicação*.\n",
        "    *   Input: conjunto de inteiros:\n",
        "    $$\n",
        "    D, d \\in \\mathbb{Z},\\ d \\neq 0.\n",
        "    $$\n",
        "    *   Output: par inteiros:\n",
        "    $$\n",
        "     q,r \\in \\mathbb{Z}\\ /\\ D = qd +r,\\ 0 \\le r < d.\n",
        "    $$\n",
        "    *   Relações e operações admitidas: ordem, adição e multiplicação.\n",
        "    $$\n",
        "    \\diamond\n",
        "    $$\n",
        "3.  Elabore e programe um algoritmo para determinar todos os divisores positivos de um dado inteiro, utilizando apenas a *relação de ordem* e as *operações de adição* e *multiplicação*.\n",
        "    *   Input: inteiro:\n",
        "    $$\n",
        "    a \\in \\mathbb{Z}.\n",
        "    $$\n",
        "    *   Output: conjunto de inteiros:\n",
        "    $$\n",
        "     D(a) = \\left\\lbrace k \\in \\mathbb{Z};\\ /\\ k \\ge 1,\\ k \\vert a\\right\\rbrace.\n",
        "    $$\n",
        "    *   Relações e operações admitidas: ordem, adição e multiplicação.\n",
        "    $$\n",
        "    \\diamond\n",
        "    $$\n",
        "4.  Elabore e programe um algoritmo para determinar todos os divisores positivos de um dado inteiro, utilizando a *relação de ordem* e a *divisão euclideana*.\n",
        "    *   Input: inteiro:\n",
        "    $$\n",
        "    a \\in \\mathbb{Z}.\n",
        "    $$\n",
        "    *   Output: conjunto de inteiros:\n",
        "    $$\n",
        "     D(a) = \\left\\lbrace k \\in \\mathbb{Z};\\ /\\ k \\ge 1,\\ k \\vert a\\right\\rbrace.\n",
        "    $$\n",
        "    *   Relações e operações admitidas: ordem e divisão euclideana.\n",
        "    $$\n",
        "    \\diamond\n",
        "    $$\n",
        "5.   Elabore e programe um algoritmo para determinar o MDC de um dado conjunto de inteiros, utilizando apenas a *relação de ordem* e as *operações de adição* e *multiplicação*.\n",
        "    *   Input: conjunto de inteiros:\n",
        "    $$\n",
        "    A = \\left\\lbrace a_1, \\dots, a_n \\right\\rbrace \\subset \\mathbb{Z}.\n",
        "    $$\n",
        "    *   Output: inteiro:\n",
        "    $$\n",
        "     \\mathrm{mdc} A \\in \\mathbb{Z}.\n",
        "    $$\n",
        "    *   Relações e operações admitidas: ordem, adição e multiplicação.\n",
        "    $$\n",
        "    \\diamond\n",
        "    $$\n",
        "6.  Elabore e programe um algoritmo para determinar o conjunto-solução de uma equação diofantina da forma\n",
        "$$\n",
        "ax +by = c,\n",
        "$$\n",
        "para dados $a, b, c \\in \\mathbb{Z}$.\n",
        "    *   Input: terna de inteiros:\n",
        "    $$\n",
        "    a,b,c \\in \\mathbb{Z}.\n",
        "    $$\n",
        "    *   Output: conjunto de inteiros:\n",
        "    $$\n",
        "     S = \\left\\lbrace (x,y) \\in  \\in \\mathbb{Z}\\times \\mathbb{Z};\\ ax +by = c \\right\\rbrace.\n",
        "    $$\n",
        "    *   Relações e operações admitidas: ordem, adição, subtração multiplicação, divisão e divisão euclideana.\n",
        "    $$\n",
        "    \\diamond\n",
        "    $$"
      ],
      "metadata": {
        "id": "niXg95nd64N-"
      }
    },
    {
      "cell_type": "code",
      "execution_count": 18,
      "metadata": {
        "colab": {
          "base_uri": "https://localhost:8080/"
        },
        "id": "-HocaelwvmY2",
        "outputId": "b9e3ad60-7dfd-4a7f-c8cf-cf9aeec73d0f"
      },
      "outputs": [
        {
          "output_type": "stream",
          "name": "stdout",
          "text": [
            "1\n",
            "2\n",
            "3\n",
            "5\n",
            "6\n",
            "10\n",
            "15\n",
            "30\n",
            "MDC(570,180) = 30\n"
          ]
        }
      ],
      "source": [
        "a = 570\n",
        "b = 180\n",
        "c = min(a,b)\n",
        "mdc = 1\n",
        "for k in range(1,c+1):\n",
        "    if a%k==0 and b%k==0:\n",
        "        mdc = k\n",
        "        print(k)\n",
        "print(f\"MDC({a},{b}) = {mdc}\")"
      ]
    },
    {
      "cell_type": "code",
      "source": [],
      "metadata": {
        "id": "dub5VxBuvwg6"
      },
      "execution_count": null,
      "outputs": []
    }
  ]
}