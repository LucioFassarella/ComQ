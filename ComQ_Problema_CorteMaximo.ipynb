{
  "nbformat": 4,
  "nbformat_minor": 0,
  "metadata": {
    "colab": {
      "provenance": [],
      "authorship_tag": "ABX9TyORi3OGqrc24vEyl0cFDDgV",
      "include_colab_link": true
    },
    "kernelspec": {
      "name": "python3",
      "display_name": "Python 3"
    },
    "language_info": {
      "name": "python"
    }
  },
  "cells": [
    {
      "cell_type": "markdown",
      "metadata": {
        "id": "view-in-github",
        "colab_type": "text"
      },
      "source": [
        "<a href=\"https://colab.research.google.com/github/LucioFassarella/COMQ/blob/main/ComQ_Problema_CorteMaximo.ipynb\" target=\"_parent\"><img src=\"https://colab.research.google.com/assets/colab-badge.svg\" alt=\"Open In Colab\"/></a>"
      ]
    },
    {
      "cell_type": "markdown",
      "source": [
        "# Problema do Corte Máximo:\n",
        "\n",
        "Resolução pela estratégia QAOA"
      ],
      "metadata": {
        "id": "-nJ-9DPj4oo7"
      }
    },
    {
      "cell_type": "markdown",
      "source": [
        "## Instalação de pacotes e métodos"
      ],
      "metadata": {
        "id": "zLtteeCl4uTM"
      }
    },
    {
      "cell_type": "code",
      "source": [
        "'''\n",
        "Instalação do Qiskit e pacotes de visualização\n",
        "'''\n",
        "!pip install qiskit -U\n",
        "!pip install qiskit_aer\n",
        "!pip install qiskit-ibm-runtime\n",
        "\n",
        "import qiskit\n",
        "qiskit.__version__\n",
        "\n",
        "!pip install matplotlib\n",
        "!pip install pylatexenc"
      ],
      "metadata": {
        "colab": {
          "base_uri": "https://localhost:8080/"
        },
        "collapsed": true,
        "id": "i95RDVGfG1JY",
        "outputId": "8aa01634-eb42-4938-a196-7c437d2fb155"
      },
      "execution_count": 2,
      "outputs": [
        {
          "output_type": "stream",
          "name": "stdout",
          "text": [
            "Collecting qiskit\n",
            "  Downloading qiskit-2.1.1-cp39-abi3-manylinux_2_17_x86_64.manylinux2014_x86_64.whl.metadata (12 kB)\n",
            "Collecting rustworkx>=0.15.0 (from qiskit)\n",
            "  Downloading rustworkx-0.17.1-cp39-abi3-manylinux_2_17_x86_64.manylinux2014_x86_64.whl.metadata (10 kB)\n",
            "Requirement already satisfied: numpy<3,>=1.17 in /usr/local/lib/python3.11/dist-packages (from qiskit) (2.0.2)\n",
            "Requirement already satisfied: scipy>=1.5 in /usr/local/lib/python3.11/dist-packages (from qiskit) (1.16.1)\n",
            "Requirement already satisfied: dill>=0.3 in /usr/local/lib/python3.11/dist-packages (from qiskit) (0.3.8)\n",
            "Collecting stevedore>=3.0.0 (from qiskit)\n",
            "  Downloading stevedore-5.4.1-py3-none-any.whl.metadata (2.3 kB)\n",
            "Requirement already satisfied: typing-extensions in /usr/local/lib/python3.11/dist-packages (from qiskit) (4.14.1)\n",
            "Collecting pbr>=2.0.0 (from stevedore>=3.0.0->qiskit)\n",
            "  Downloading pbr-7.0.0-py2.py3-none-any.whl.metadata (1.4 kB)\n",
            "Requirement already satisfied: setuptools in /usr/local/lib/python3.11/dist-packages (from pbr>=2.0.0->stevedore>=3.0.0->qiskit) (75.2.0)\n",
            "Downloading qiskit-2.1.1-cp39-abi3-manylinux_2_17_x86_64.manylinux2014_x86_64.whl (7.5 MB)\n",
            "\u001b[2K   \u001b[90m━━━━━━━━━━━━━━━━━━━━━━━━━━━━━━━━━━━━━━━━\u001b[0m \u001b[32m7.5/7.5 MB\u001b[0m \u001b[31m39.0 MB/s\u001b[0m eta \u001b[36m0:00:00\u001b[0m\n",
            "\u001b[?25hDownloading rustworkx-0.17.1-cp39-abi3-manylinux_2_17_x86_64.manylinux2014_x86_64.whl (2.2 MB)\n",
            "\u001b[2K   \u001b[90m━━━━━━━━━━━━━━━━━━━━━━━━━━━━━━━━━━━━━━━━\u001b[0m \u001b[32m2.2/2.2 MB\u001b[0m \u001b[31m61.1 MB/s\u001b[0m eta \u001b[36m0:00:00\u001b[0m\n",
            "\u001b[?25hDownloading stevedore-5.4.1-py3-none-any.whl (49 kB)\n",
            "\u001b[2K   \u001b[90m━━━━━━━━━━━━━━━━━━━━━━━━━━━━━━━━━━━━━━━━\u001b[0m \u001b[32m49.5/49.5 kB\u001b[0m \u001b[31m4.6 MB/s\u001b[0m eta \u001b[36m0:00:00\u001b[0m\n",
            "\u001b[?25hDownloading pbr-7.0.0-py2.py3-none-any.whl (125 kB)\n",
            "\u001b[2K   \u001b[90m━━━━━━━━━━━━━━━━━━━━━━━━━━━━━━━━━━━━━━━━\u001b[0m \u001b[32m125.1/125.1 kB\u001b[0m \u001b[31m11.6 MB/s\u001b[0m eta \u001b[36m0:00:00\u001b[0m\n",
            "\u001b[?25hInstalling collected packages: rustworkx, pbr, stevedore, qiskit\n",
            "Successfully installed pbr-7.0.0 qiskit-2.1.1 rustworkx-0.17.1 stevedore-5.4.1\n",
            "Collecting qiskit_aer\n",
            "  Downloading qiskit_aer-0.17.1-cp311-cp311-manylinux_2_17_x86_64.manylinux2014_x86_64.whl.metadata (8.3 kB)\n",
            "Requirement already satisfied: qiskit>=1.1.0 in /usr/local/lib/python3.11/dist-packages (from qiskit_aer) (2.1.1)\n",
            "Requirement already satisfied: numpy>=1.16.3 in /usr/local/lib/python3.11/dist-packages (from qiskit_aer) (2.0.2)\n",
            "Requirement already satisfied: scipy>=1.0 in /usr/local/lib/python3.11/dist-packages (from qiskit_aer) (1.16.1)\n",
            "Requirement already satisfied: psutil>=5 in /usr/local/lib/python3.11/dist-packages (from qiskit_aer) (5.9.5)\n",
            "Requirement already satisfied: python-dateutil>=2.8.0 in /usr/local/lib/python3.11/dist-packages (from qiskit_aer) (2.9.0.post0)\n",
            "Requirement already satisfied: six>=1.5 in /usr/local/lib/python3.11/dist-packages (from python-dateutil>=2.8.0->qiskit_aer) (1.17.0)\n",
            "Requirement already satisfied: rustworkx>=0.15.0 in /usr/local/lib/python3.11/dist-packages (from qiskit>=1.1.0->qiskit_aer) (0.17.1)\n",
            "Requirement already satisfied: dill>=0.3 in /usr/local/lib/python3.11/dist-packages (from qiskit>=1.1.0->qiskit_aer) (0.3.8)\n",
            "Requirement already satisfied: stevedore>=3.0.0 in /usr/local/lib/python3.11/dist-packages (from qiskit>=1.1.0->qiskit_aer) (5.4.1)\n",
            "Requirement already satisfied: typing-extensions in /usr/local/lib/python3.11/dist-packages (from qiskit>=1.1.0->qiskit_aer) (4.14.1)\n",
            "Requirement already satisfied: pbr>=2.0.0 in /usr/local/lib/python3.11/dist-packages (from stevedore>=3.0.0->qiskit>=1.1.0->qiskit_aer) (7.0.0)\n",
            "Requirement already satisfied: setuptools in /usr/local/lib/python3.11/dist-packages (from pbr>=2.0.0->stevedore>=3.0.0->qiskit>=1.1.0->qiskit_aer) (75.2.0)\n",
            "Downloading qiskit_aer-0.17.1-cp311-cp311-manylinux_2_17_x86_64.manylinux2014_x86_64.whl (12.4 MB)\n",
            "\u001b[2K   \u001b[90m━━━━━━━━━━━━━━━━━━━━━━━━━━━━━━━━━━━━━━━━\u001b[0m \u001b[32m12.4/12.4 MB\u001b[0m \u001b[31m88.8 MB/s\u001b[0m eta \u001b[36m0:00:00\u001b[0m\n",
            "\u001b[?25hInstalling collected packages: qiskit_aer\n",
            "Successfully installed qiskit_aer-0.17.1\n",
            "Collecting qiskit-ibm-runtime\n",
            "  Downloading qiskit_ibm_runtime-0.41.0-py3-none-any.whl.metadata (21 kB)\n",
            "Requirement already satisfied: requests>=2.19 in /usr/local/lib/python3.11/dist-packages (from qiskit-ibm-runtime) (2.32.3)\n",
            "Collecting requests-ntlm>=1.1.0 (from qiskit-ibm-runtime)\n",
            "  Downloading requests_ntlm-1.3.0-py3-none-any.whl.metadata (2.4 kB)\n",
            "Requirement already satisfied: numpy>=1.13 in /usr/local/lib/python3.11/dist-packages (from qiskit-ibm-runtime) (2.0.2)\n",
            "Requirement already satisfied: urllib3>=1.21.1 in /usr/local/lib/python3.11/dist-packages (from qiskit-ibm-runtime) (2.5.0)\n",
            "Requirement already satisfied: python-dateutil>=2.8.0 in /usr/local/lib/python3.11/dist-packages (from qiskit-ibm-runtime) (2.9.0.post0)\n",
            "Collecting ibm-platform-services>=0.22.6 (from qiskit-ibm-runtime)\n",
            "  Downloading ibm_platform_services-0.68.1-py3-none-any.whl.metadata (9.0 kB)\n",
            "Requirement already satisfied: pydantic>=2.5.0 in /usr/local/lib/python3.11/dist-packages (from qiskit-ibm-runtime) (2.11.7)\n",
            "Requirement already satisfied: qiskit>=1.4.1 in /usr/local/lib/python3.11/dist-packages (from qiskit-ibm-runtime) (2.1.1)\n",
            "Requirement already satisfied: packaging in /usr/local/lib/python3.11/dist-packages (from qiskit-ibm-runtime) (25.0)\n",
            "Collecting ibm_cloud_sdk_core<4.0.0,>=3.24.2 (from ibm-platform-services>=0.22.6->qiskit-ibm-runtime)\n",
            "  Downloading ibm_cloud_sdk_core-3.24.2-py3-none-any.whl.metadata (8.7 kB)\n",
            "Requirement already satisfied: annotated-types>=0.6.0 in /usr/local/lib/python3.11/dist-packages (from pydantic>=2.5.0->qiskit-ibm-runtime) (0.7.0)\n",
            "Requirement already satisfied: pydantic-core==2.33.2 in /usr/local/lib/python3.11/dist-packages (from pydantic>=2.5.0->qiskit-ibm-runtime) (2.33.2)\n",
            "Requirement already satisfied: typing-extensions>=4.12.2 in /usr/local/lib/python3.11/dist-packages (from pydantic>=2.5.0->qiskit-ibm-runtime) (4.14.1)\n",
            "Requirement already satisfied: typing-inspection>=0.4.0 in /usr/local/lib/python3.11/dist-packages (from pydantic>=2.5.0->qiskit-ibm-runtime) (0.4.1)\n",
            "Requirement already satisfied: six>=1.5 in /usr/local/lib/python3.11/dist-packages (from python-dateutil>=2.8.0->qiskit-ibm-runtime) (1.17.0)\n",
            "Requirement already satisfied: rustworkx>=0.15.0 in /usr/local/lib/python3.11/dist-packages (from qiskit>=1.4.1->qiskit-ibm-runtime) (0.17.1)\n",
            "Requirement already satisfied: scipy>=1.5 in /usr/local/lib/python3.11/dist-packages (from qiskit>=1.4.1->qiskit-ibm-runtime) (1.16.1)\n",
            "Requirement already satisfied: dill>=0.3 in /usr/local/lib/python3.11/dist-packages (from qiskit>=1.4.1->qiskit-ibm-runtime) (0.3.8)\n",
            "Requirement already satisfied: stevedore>=3.0.0 in /usr/local/lib/python3.11/dist-packages (from qiskit>=1.4.1->qiskit-ibm-runtime) (5.4.1)\n",
            "Requirement already satisfied: charset-normalizer<4,>=2 in /usr/local/lib/python3.11/dist-packages (from requests>=2.19->qiskit-ibm-runtime) (3.4.3)\n",
            "Requirement already satisfied: idna<4,>=2.5 in /usr/local/lib/python3.11/dist-packages (from requests>=2.19->qiskit-ibm-runtime) (3.10)\n",
            "Requirement already satisfied: certifi>=2017.4.17 in /usr/local/lib/python3.11/dist-packages (from requests>=2.19->qiskit-ibm-runtime) (2025.8.3)\n",
            "Requirement already satisfied: cryptography>=1.3 in /usr/local/lib/python3.11/dist-packages (from requests-ntlm>=1.1.0->qiskit-ibm-runtime) (43.0.3)\n",
            "Collecting pyspnego>=0.4.0 (from requests-ntlm>=1.1.0->qiskit-ibm-runtime)\n",
            "  Downloading pyspnego-0.11.2-py3-none-any.whl.metadata (5.4 kB)\n",
            "Requirement already satisfied: cffi>=1.12 in /usr/local/lib/python3.11/dist-packages (from cryptography>=1.3->requests-ntlm>=1.1.0->qiskit-ibm-runtime) (1.17.1)\n",
            "Collecting requests>=2.19 (from qiskit-ibm-runtime)\n",
            "  Downloading requests-2.32.4-py3-none-any.whl.metadata (4.9 kB)\n",
            "Requirement already satisfied: PyJWT<3.0.0,>=2.10.1 in /usr/local/lib/python3.11/dist-packages (from ibm_cloud_sdk_core<4.0.0,>=3.24.2->ibm-platform-services>=0.22.6->qiskit-ibm-runtime) (2.10.1)\n",
            "Requirement already satisfied: pbr>=2.0.0 in /usr/local/lib/python3.11/dist-packages (from stevedore>=3.0.0->qiskit>=1.4.1->qiskit-ibm-runtime) (7.0.0)\n",
            "Requirement already satisfied: pycparser in /usr/local/lib/python3.11/dist-packages (from cffi>=1.12->cryptography>=1.3->requests-ntlm>=1.1.0->qiskit-ibm-runtime) (2.22)\n",
            "Requirement already satisfied: setuptools in /usr/local/lib/python3.11/dist-packages (from pbr>=2.0.0->stevedore>=3.0.0->qiskit>=1.4.1->qiskit-ibm-runtime) (75.2.0)\n",
            "Downloading qiskit_ibm_runtime-0.41.0-py3-none-any.whl (1.4 MB)\n",
            "\u001b[2K   \u001b[90m━━━━━━━━━━━━━━━━━━━━━━━━━━━━━━━━━━━━━━━━\u001b[0m \u001b[32m1.4/1.4 MB\u001b[0m \u001b[31m57.4 MB/s\u001b[0m eta \u001b[36m0:00:00\u001b[0m\n",
            "\u001b[?25hDownloading ibm_platform_services-0.68.1-py3-none-any.whl (366 kB)\n",
            "\u001b[2K   \u001b[90m━━━━━━━━━━━━━━━━━━━━━━━━━━━━━━━━━━━━━━━━\u001b[0m \u001b[32m366.2/366.2 kB\u001b[0m \u001b[31m21.5 MB/s\u001b[0m eta \u001b[36m0:00:00\u001b[0m\n",
            "\u001b[?25hDownloading requests_ntlm-1.3.0-py3-none-any.whl (6.6 kB)\n",
            "Downloading ibm_cloud_sdk_core-3.24.2-py3-none-any.whl (75 kB)\n",
            "\u001b[2K   \u001b[90m━━━━━━━━━━━━━━━━━━━━━━━━━━━━━━━━━━━━━━━━\u001b[0m \u001b[32m75.8/75.8 kB\u001b[0m \u001b[31m7.4 MB/s\u001b[0m eta \u001b[36m0:00:00\u001b[0m\n",
            "\u001b[?25hDownloading requests-2.32.4-py3-none-any.whl (64 kB)\n",
            "\u001b[2K   \u001b[90m━━━━━━━━━━━━━━━━━━━━━━━━━━━━━━━━━━━━━━━━\u001b[0m \u001b[32m64.8/64.8 kB\u001b[0m \u001b[31m6.8 MB/s\u001b[0m eta \u001b[36m0:00:00\u001b[0m\n",
            "\u001b[?25hDownloading pyspnego-0.11.2-py3-none-any.whl (130 kB)\n",
            "\u001b[2K   \u001b[90m━━━━━━━━━━━━━━━━━━━━━━━━━━━━━━━━━━━━━━━━\u001b[0m \u001b[32m130.5/130.5 kB\u001b[0m \u001b[31m11.5 MB/s\u001b[0m eta \u001b[36m0:00:00\u001b[0m\n",
            "\u001b[?25hInstalling collected packages: requests, ibm_cloud_sdk_core, pyspnego, ibm-platform-services, requests-ntlm, qiskit-ibm-runtime\n",
            "  Attempting uninstall: requests\n",
            "    Found existing installation: requests 2.32.3\n",
            "    Uninstalling requests-2.32.3:\n",
            "      Successfully uninstalled requests-2.32.3\n",
            "\u001b[31mERROR: pip's dependency resolver does not currently take into account all the packages that are installed. This behaviour is the source of the following dependency conflicts.\n",
            "google-colab 1.0.0 requires requests==2.32.3, but you have requests 2.32.4 which is incompatible.\u001b[0m\u001b[31m\n",
            "\u001b[0mSuccessfully installed ibm-platform-services-0.68.1 ibm_cloud_sdk_core-3.24.2 pyspnego-0.11.2 qiskit-ibm-runtime-0.41.0 requests-2.32.4 requests-ntlm-1.3.0\n",
            "Requirement already satisfied: matplotlib in /usr/local/lib/python3.11/dist-packages (3.10.0)\n",
            "Requirement already satisfied: contourpy>=1.0.1 in /usr/local/lib/python3.11/dist-packages (from matplotlib) (1.3.3)\n",
            "Requirement already satisfied: cycler>=0.10 in /usr/local/lib/python3.11/dist-packages (from matplotlib) (0.12.1)\n",
            "Requirement already satisfied: fonttools>=4.22.0 in /usr/local/lib/python3.11/dist-packages (from matplotlib) (4.59.0)\n",
            "Requirement already satisfied: kiwisolver>=1.3.1 in /usr/local/lib/python3.11/dist-packages (from matplotlib) (1.4.9)\n",
            "Requirement already satisfied: numpy>=1.23 in /usr/local/lib/python3.11/dist-packages (from matplotlib) (2.0.2)\n",
            "Requirement already satisfied: packaging>=20.0 in /usr/local/lib/python3.11/dist-packages (from matplotlib) (25.0)\n",
            "Requirement already satisfied: pillow>=8 in /usr/local/lib/python3.11/dist-packages (from matplotlib) (11.3.0)\n",
            "Requirement already satisfied: pyparsing>=2.3.1 in /usr/local/lib/python3.11/dist-packages (from matplotlib) (3.2.3)\n",
            "Requirement already satisfied: python-dateutil>=2.7 in /usr/local/lib/python3.11/dist-packages (from matplotlib) (2.9.0.post0)\n",
            "Requirement already satisfied: six>=1.5 in /usr/local/lib/python3.11/dist-packages (from python-dateutil>=2.7->matplotlib) (1.17.0)\n",
            "Collecting pylatexenc\n",
            "  Downloading pylatexenc-2.10.tar.gz (162 kB)\n",
            "\u001b[2K     \u001b[90m━━━━━━━━━━━━━━━━━━━━━━━━━━━━━━━━━━━━━━\u001b[0m \u001b[32m162.6/162.6 kB\u001b[0m \u001b[31m11.0 MB/s\u001b[0m eta \u001b[36m0:00:00\u001b[0m\n",
            "\u001b[?25h  Preparing metadata (setup.py) ... \u001b[?25l\u001b[?25hdone\n",
            "Building wheels for collected packages: pylatexenc\n",
            "  Building wheel for pylatexenc (setup.py) ... \u001b[?25l\u001b[?25hdone\n",
            "  Created wheel for pylatexenc: filename=pylatexenc-2.10-py3-none-any.whl size=136817 sha256=e1b10752cde264d67ef3d7e7e6f98ed0a464119c8e22c7c68eadf42fb4b5b41f\n",
            "  Stored in directory: /root/.cache/pip/wheels/b1/7a/33/9fdd892f784ed4afda62b685ae3703adf4c91aa0f524c28f03\n",
            "Successfully built pylatexenc\n",
            "Installing collected packages: pylatexenc\n",
            "Successfully installed pylatexenc-2.10\n"
          ]
        }
      ]
    },
    {
      "cell_type": "code",
      "source": [
        "'''\n",
        "Pacotes e Métodos\n",
        "'''\n",
        "\n",
        "# NumPy e SciPy\n",
        "import numpy as np\n",
        "import scipy as sp\n",
        "\n",
        "# Minimizador do SciPy\n",
        "from scipy.optimize import minimize\n",
        "\n",
        "# Métodos do Qiskit\n",
        "from qiskit import QuantumCircuit, ClassicalRegister, QuantumRegister, transpile\n",
        "from qiskit.quantum_info import SparsePauliOp, Statevector, Operator\n",
        "from qiskit.visualization import plot_histogram, array_to_latex, plot_state_city\n",
        "from qiskit.transpiler.preset_passmanagers import generate_preset_pass_manager\n",
        "#from qiskit.circuit.library import QAOAAnsatz\n",
        "\n",
        "# Estimadores do Qiskit\n",
        "from qiskit_aer.primitives import Estimator # <-- Estimator para simulação clássica\n",
        "# from qiskit_ibm_runtime import EstimatorV2 as Estimator # <-- Estimator para computação quântica\n",
        "# from qiskit_ibm_runtime import SamplerV2 as Sampler # <-- Estimator para computação quântica\n",
        "\n",
        "# Qiskit Runtime\n",
        "#from qiskit_ibm_runtime import QiskitRuntimeService, Session\n",
        "\n",
        "import time"
      ],
      "metadata": {
        "id": "ivgHfUpsrOvq"
      },
      "execution_count": 3,
      "outputs": []
    },
    {
      "cell_type": "markdown",
      "source": [
        "## Definição de métodos específicos"
      ],
      "metadata": {
        "id": "q5CmO4j-43SH"
      }
    },
    {
      "cell_type": "code",
      "source": [
        "def Hamiltoniano_Corte(n = 'int', w = 'list'):\n",
        "    '''\n",
        "    Função que contrói o Hamiltoniano de corte para um grafo.\n",
        "\n",
        "    Entradas:\n",
        "        n: número de qubits (int)\n",
        "        w: matriz de pesos (list)\n",
        "\n",
        "    Saída:\n",
        "        HC: Hamiltoniano do corte (SparsePauliOp)\n",
        "\n",
        "    Método requerido:\n",
        "        from qiskit.quantum_info import SparsePauliOp\n",
        "\n",
        "    '''\n",
        "\n",
        "    '''\n",
        "    ### Verificação da consistência dos dados de entrada\n",
        "    '''\n",
        "\n",
        "    if type(n) != int:\n",
        "        return print(\"O primeiro argumento deve ser um inteiro\")\n",
        "    if type(w) != list:\n",
        "        return print(\"O segundo argumento deve ser uma lista quadrada simétrica\")\n",
        "    if n != len(w):\n",
        "        return print(\"O comprimento da l ista deve ser igual ao primeiro argumento\")\n",
        "\n",
        "    '''\n",
        "    ### Código principal\n",
        "    '''\n",
        "\n",
        "    operadores = []\n",
        "\n",
        "    peso_total = 0\n",
        "    for j in range(n):\n",
        "        for i in range(j):\n",
        "            peso_total += w[i][j]\n",
        "\n",
        "    operadores.append((\"I\",[0], peso_total/2))\n",
        "\n",
        "    for j in range(n):\n",
        "        for i in range(j):\n",
        "            operadores.append((\"ZZ\",[i,j], -w[i][j]/2))\n",
        "\n",
        "    HC = SparsePauliOp.from_sparse_list(operadores, num_qubits = n)\n",
        "\n",
        "    return HC"
      ],
      "metadata": {
        "id": "ih0OAwsFJKQH"
      },
      "execution_count": 4,
      "outputs": []
    },
    {
      "cell_type": "code",
      "source": [
        "def Operador_Separador(n = 'int', w = 'list', g = 'float'):\n",
        "    '''\n",
        "    Função que contrói o operador separador da estratégia QAOA para um grafo.\n",
        "\n",
        "    Entradas:\n",
        "        n: número de qubits (int)\n",
        "        w : matriz de pesos (list)\n",
        "        g: parâmetro real (float)\n",
        "\n",
        "    Saída:\n",
        "        qc: circuito quântico com n qubits\n",
        "\n",
        "    Métodos requeridos:\n",
        "        qiskit.QuantumCircuit\n",
        "\n",
        "    '''\n",
        "\n",
        "    '''\n",
        "    Verificação da consistência dos dados de entrada\n",
        "    '''\n",
        "\n",
        "    if type(n) != int:\n",
        "        return print(\"O primeiro argumento deve ser um inteiro\")\n",
        "    if type(w) != list:\n",
        "        return print(\"O segundo argumento deve ser uma lista quadrada simétrica\")\n",
        "    if n != len(w):\n",
        "        return print(\"O comprimento da lista deve ser igual ao primeiro argumento\")\n",
        "\n",
        "    '''\n",
        "    Código principal\n",
        "    '''\n",
        "\n",
        "    qc = QuantumCircuit(n, name = \"H_P\")\n",
        "\n",
        "    for j in range(n):\n",
        "        for i in range(j):\n",
        "            qc.rzz(g*w[i][j],i,j)\n",
        "\n",
        "    return qc"
      ],
      "metadata": {
        "id": "mo21YLMYDFcy"
      },
      "execution_count": 5,
      "outputs": []
    },
    {
      "cell_type": "code",
      "source": [
        "def Operador_Misturador(n = 'int', b = 'float'):\n",
        "    '''\n",
        "    Função que contrói o operador misturador da estratégia QAOA para um grafo.\n",
        "\n",
        "    Entradas:\n",
        "        n: número de qubits (int)\n",
        "        g: parâmetro real (float)\n",
        "\n",
        "    Saída:\n",
        "        qc: circuito quântico com n qubits\n",
        "\n",
        "    Métodos requeridos:\n",
        "        qiskit.QuantumCircuit\n",
        "\n",
        "    '''\n",
        "\n",
        "    '''\n",
        "    Verificação da consistência dos dados de entrada\n",
        "    '''\n",
        "\n",
        "    if type(n) != int:\n",
        "        return print(\"O primeiro argumento deve ser um inteiro\")\n",
        "\n",
        "    '''\n",
        "    Código principal\n",
        "    '''\n",
        "\n",
        "    qc = QuantumCircuit(n, name = \"H_M\")\n",
        "\n",
        "    for i in range(n):\n",
        "            qc.rx(b,i)\n",
        "\n",
        "    return qc"
      ],
      "metadata": {
        "id": "ziA6Xq9YW2Sk"
      },
      "execution_count": 6,
      "outputs": []
    },
    {
      "cell_type": "code",
      "source": [
        "def QAOA_Ansatz(n = 'int', w = 'list', p = 'int', g_vec = 'list', b_vec = 'list'):\n",
        "    '''\n",
        "    Função que contrói o circuito quântico QAOA para um grafo.\n",
        "\n",
        "    Entradas:\n",
        "        n: número de qubits (int)\n",
        "        w : matriz de pesos (list)\n",
        "        g_vec: lista de parâmetros reais (float)\n",
        "        b_vec: lista de parâmetros reais (float)\n",
        "\n",
        "    Saída:\n",
        "        qc: circuito quântico parametrizado com n qubits.\n",
        "\n",
        "    Métodos requeridos:\n",
        "        Hamiltoniano_Corte\n",
        "        Operador_Separador\n",
        "        Operador_Misturador\n",
        "\n",
        "    '''\n",
        "\n",
        "    '''\n",
        "    Verificação da consistência dos dados de entrada\n",
        "    '''\n",
        "    if type(n) != int:\n",
        "        return print(\"O primeiro argumento 'n' deve ser um inteiro.\")\n",
        "    if type(w) != list:\n",
        "        return print(\"O segundo argumento 'w' deve ser uma lista quadrada simétrica.\")\n",
        "    if n != len(w):\n",
        "        return print(\"O comprimento da lista 'w' deve ser igual ao primeiro argumento 'n'.\")\n",
        "    if type(p) != int:\n",
        "        return print(\"O terceiro argumento 'p' deve ser um inteiro.\")\n",
        "    if type(g_vec) != list:\n",
        "        return print(\"O quarto argumento 'g_vec' deve ser uma lista de floats.\")\n",
        "    if type(b_vec) != list:\n",
        "        return print(\"O quinto argumento 'b_vec' deve ser uma lista de floats.\")\n",
        "    if len(g_vec) != p or len(b_vec) != p:\n",
        "        return print(\"Os parâmetros 'g_vec' e 'b_vec' devem ter comprimento igual ao terceiro argumento 'p'.\")\n",
        "    # if circuito_preparacao != None:\n",
        "    #     if type(circuito_preparacao) != QuantumCircuit:\n",
        "    #         return print(\"O sexto argumento 'circuito_preparacao' pode ser omitido ou deve ser um circuito quântico com tantos qubits quanto o primeiro argumento 'n'.\")\n",
        "\n",
        "    '''\n",
        "    Código principal\n",
        "    '''\n",
        "\n",
        "    # Construção do circuito\n",
        "    qc = QuantumCircuit(n, name = \"QAOA_Ansatz\")\n",
        "\n",
        "    for i in range(n):\n",
        "        qc.h(i)\n",
        "\n",
        "    qubits = range(n)\n",
        "    for i in range(p):\n",
        "        qc.append(Operador_Separador(n, w, g_vec[i]), qubits)\n",
        "        qc.append(Operador_Misturador(n, b_vec[i]), qubits)\n",
        "\n",
        "    return qc"
      ],
      "metadata": {
        "id": "YM2dhbf1YWzJ"
      },
      "execution_count": 7,
      "outputs": []
    },
    {
      "cell_type": "code",
      "source": [
        "def CorteQ(parametros = 'list', n = 'int', w = 'list', p = 'int', estimator = 'qiskit_aer.primitives'):\n",
        "    '''\n",
        "    Função que retorna o corte de uma partição do grafo\n",
        "\n",
        "    Entradas:\n",
        "        estimator: estimador quântico (Estimator)\n",
        "        n: número de qubits (int)\n",
        "        w: matriz de pesos (list)\n",
        "        p: profundidade do ansatz QAOA (int)\n",
        "        parametros: 'g_vec + b_vec' = lista de parâmetros combinando parâmetros de separação e  parâmetros de mistura\n",
        "\n",
        "    Saída:\n",
        "        cost = float: custo\n",
        "\n",
        "    Métodos requeridos:\n",
        "        QAOA_Ansatz\n",
        "        Estimator\n",
        "        pass_manager: Qiskit PassManager\n",
        "\n",
        "    Observações:\n",
        "        Para executar esta função, é necessário previamente definir o \"estimator\"\n",
        "        e inicializar o transpilador pelo comando\n",
        "        \"pass_manager = generate_preset_pass_manager(optimization_level=1, backend=backend)\"\n",
        "    '''\n",
        "    # Construção do circuito QAOA\n",
        "    g_vec = list(parametros[:p])\n",
        "    b_vec = list(parametros[p:])\n",
        "    QAOA = QAOA_Ansatz(n, w, p, g_vec, b_vec)\n",
        "\n",
        "    # Cálculo do corte\n",
        "    QAOA_transpilado = pass_manager.run(QAOA)\n",
        "    HC = Hamiltoniano_Corte(n, w)\n",
        "    HC_transpilado = HC.apply_layout(QAOA_transpilado.layout)\n",
        "    job = estimator.run([(QAOA_transpilado, HC_transpilado)])\n",
        "    corte = job.result()[0].data.evs\n",
        "\n",
        "    return corte"
      ],
      "metadata": {
        "id": "NUw5l64gm1rk"
      },
      "execution_count": 8,
      "outputs": []
    },
    {
      "cell_type": "code",
      "source": [
        "'''\n",
        "Funções auxiliares para pós-processamento\n",
        "\n",
        "(Elas definem representações de inteiros em base arbitrária e vice-versa)\n",
        "'''\n",
        "\n",
        "# Função que calcula o corte de uma partição de um grafo\n",
        "def Corte(w,A):\n",
        "    '''\n",
        "    Função que calcula o corte de uma partição de um grafo\n",
        "\n",
        "    Entradas:\n",
        "        w: matriz de pesos (list)\n",
        "        A: lista de vértices da partição\n",
        "\n",
        "    Saída:\n",
        "        corte: corte da partição (float)\n",
        "    '''\n",
        "\n",
        "    n = len(w)\n",
        "    corte = 0\n",
        "    for i in range(n):\n",
        "        for j in range(i):\n",
        "            if (i in A and j not in A) or (j in A and i not in A):\n",
        "                corte += w[i][j]\n",
        "\n",
        "    return corte\n",
        "\n",
        "# Função que retorna o estado da base computacional mais proeminente de um estado gerado por um circuito quântico\n",
        "def estado_base_max(qc, num_qubits):\n",
        "    '''\n",
        "    Determina o estado da base computacional que tem maior probabilidade no estado\n",
        "     gerado por um circuito quântico 'qc' num registro quântico com 'num_qubits' qubits.\n",
        "\n",
        "    Entradas:\n",
        "        qc (QuantumCircuit): circuito quântico\n",
        "        num_qubits (int): número de qubits do circuito\n",
        "\n",
        "    Saída:\n",
        "        string: o estado da base com maior probabilidade, na forma de string binária\n",
        "\n",
        "    Métodos:\n",
        "        qiskit.QuantumCircuit\n",
        "        qiskit.quantum_info.Statevector\n",
        "        numpy as np\n",
        "    '''\n",
        "\n",
        "    estado = Statevector.from_instruction(qc)\n",
        "    probabilidades = estado.probabilities()\n",
        "    estado_base_maximo = np.argmax(probabilidades)\n",
        "    return format(estado_base_maximo, f'0{num_qubits}b')\n",
        "\n",
        "# Função que retorna a lista de comprimento 'l' com os dígitos na base 'b' de um inteiro 'x' dado na base 10\n",
        "def numero_para_digitos(x,b,l):\n",
        "    '''\n",
        "    Função que retorna a lista de dígitos do inteiro 'x'  na base 'b'\n",
        "    com comprimento 'l' (no mínimo) e na ordem anti-lexicográfica\n",
        "\n",
        "    Entradas:\n",
        "        b : inteiro positivo : base\n",
        "        x : inteiro a ser apresentado na base 'b'\n",
        "        l : inteiro positivo : comprimento da representação\n",
        "\n",
        "    Saída:\n",
        "        list : lista de inteiros positivos\n",
        "    '''\n",
        "    if x < 0:\n",
        "        sign = -1\n",
        "    else:\n",
        "        sign = 1\n",
        "\n",
        "    x *= sign\n",
        "\n",
        "    ordem = 0\n",
        "    while x >= b**ordem:\n",
        "        ordem += 1\n",
        "\n",
        "    ordem = max(ordem,l)\n",
        "\n",
        "    repres = [0 for k in range(ordem)]\n",
        "\n",
        "    for k in range(ordem):\n",
        "        expoente = ordem - k - 1\n",
        "        repres[k] = x // b**expoente\n",
        "        x = x % b**expoente\n",
        "\n",
        "    return np.array(repres)\n",
        "\n",
        "# Função que retorna o número escrito na base 10 para dada lista 'lista' com seus dígitos na base 'b'\n",
        "def digitos_para_numero(lista,b):\n",
        "    '''\n",
        "    Função que apresenta na base '10' um inteiro dado pela lista 'lista'\n",
        "    de seus dígitos na base 'b' na ordem anti-lexicográfica\n",
        "\n",
        "    Entradas:\n",
        "        b : inteiro positivo : base\n",
        "        x : inteiro a ser apresentado na base 'b'\n",
        "\n",
        "    Saída:\n",
        "        int : 'x' na base '10'\n",
        "    '''\n",
        "    ordem = len(lista)\n",
        "    n = 0\n",
        "    for k in range(0,ordem):\n",
        "        n = n + lista[k]*(5**(ordem - k - 1))\n",
        "    return n"
      ],
      "metadata": {
        "id": "7nKIuQ1DTGDp"
      },
      "execution_count": 51,
      "outputs": []
    },
    {
      "cell_type": "markdown",
      "source": [
        "## Exemplos"
      ],
      "metadata": {
        "id": "Py9iSsU-KgCT"
      }
    },
    {
      "cell_type": "markdown",
      "source": [
        "### Exemplo 1: Grafo com 5 vértices"
      ],
      "metadata": {
        "id": "NzG58ZuIPIOW"
      }
    },
    {
      "cell_type": "code",
      "source": [
        "'''\n",
        "Grafo\n",
        "'''\n",
        "\n",
        "n = 5\n",
        "print(f\"Dimensão do grafo: {n}\")\n",
        "\n",
        "w = [\n",
        "   [0,1,0,0,1],\n",
        "   [1,0,1,0,1],\n",
        "   [0,1,0,1,0],\n",
        "   [0,0,1,0,1],\n",
        "    [1,1,0,1,0]\n",
        "]\n",
        "print(\"Matriz de pesos:\")\n",
        "display(w)\n",
        "\n",
        "# Impressão do grafo\n",
        "import networkx as nx\n",
        "\n",
        "G = nx.Graph()\n",
        "vertices = range(n)\n",
        "G.add_nodes_from(vertices)\n",
        "\n",
        "arestas = []\n",
        "for i in range(n):\n",
        "    for j in range(n):\n",
        "        if w[i][j] != 0:\n",
        "            arestas.append((i,j))\n",
        "G.add_edges_from(arestas)\n",
        "\n",
        "print(\"Grafo:\")\n",
        "nx.draw(G, with_labels=True, alpha=0.8, node_size=200)"
      ],
      "metadata": {
        "colab": {
          "base_uri": "https://localhost:8080/",
          "height": 658
        },
        "id": "BA09mXcigkS8",
        "outputId": "0a6da4b6-647b-45c2-d3e1-183e1ffdd1cc"
      },
      "execution_count": 53,
      "outputs": [
        {
          "output_type": "stream",
          "name": "stdout",
          "text": [
            "Dimensão do grafo: 5\n",
            "Matriz de pesos:\n"
          ]
        },
        {
          "output_type": "display_data",
          "data": {
            "text/plain": [
              "[[0, 1, 0, 0, 1],\n",
              " [1, 0, 1, 0, 1],\n",
              " [0, 1, 0, 1, 0],\n",
              " [0, 0, 1, 0, 1],\n",
              " [1, 1, 0, 1, 0]]"
            ]
          },
          "metadata": {}
        },
        {
          "output_type": "stream",
          "name": "stdout",
          "text": [
            "Grafo:\n"
          ]
        },
        {
          "output_type": "display_data",
          "data": {
            "text/plain": [
              "<Figure size 640x480 with 1 Axes>"
            ],
            "image/png": "[encoded data removed]"
          },
          "metadata": {}
        }
      ]
    },
    {
      "cell_type": "code",
      "source": [
        "'''\n",
        "Resolução clássica\n",
        "'''\n",
        "# Uma partição e seu corte\n",
        "\n",
        "A = [1,3]\n",
        "B = []\n",
        "for k in range(len(w)):\n",
        "    if k not in A:\n",
        "        B.append(k)\n",
        "print(f\"Partição: {(A,B)}\")\n",
        "corte = Corte(w,A)\n",
        "print(f\"Corte da partição: {corte}\")"
      ],
      "metadata": {
        "colab": {
          "base_uri": "https://localhost:8080/"
        },
        "id": "fzC5djVGngYc",
        "outputId": "afd3cfce-75cd-435b-dc25-52b685bcdc7a"
      },
      "execution_count": 60,
      "outputs": [
        {
          "output_type": "stream",
          "name": "stdout",
          "text": [
            "Partição: ([1, 3], [0, 2, 4])\n",
            "Corte da partição: 5\n"
          ]
        }
      ]
    },
    {
      "cell_type": "code",
      "source": [
        "'''\n",
        "Métodos para execução da estratégia QAOA\n",
        "'''\n",
        "\n",
        "# Serviço\n",
        "from qiskit_ibm_runtime import QiskitRuntimeService\n",
        "service = QiskitRuntimeService(\n",
        "    channel=\"ibm_cloud\",\n",
        "    token=\"7zAryvcpz2cTOgAbliiOL_A4qMyxg5Vq3nuHiBs1VENt\",\n",
        "    instance=\"crn:v1:bluemix:public:quantum-computing:us-east:a/8e99d0dd96d44fd08e92d06df59c1d0a:8c991a39-9205-4233-9c72-dda37b057ae6::\"\n",
        "    )\n",
        "\n",
        "## Backend fake\n",
        "from qiskit_ibm_runtime.fake_provider import FakeBrisbane\n",
        "backend = FakeBrisbane() # FakeBrisbane(): 127 qubits. Mais fake backends: 'https://quantum.cloud.ibm.com/docs/en/api/qiskit-ibm-runtime/fake-provider'\n",
        "\n",
        "# Initialize Estimator\n",
        "from qiskit_aer.primitives import EstimatorV2\n",
        "Estimator = EstimatorV2\n",
        "\n",
        "# Transpilador\n",
        "from qiskit.transpiler.preset_passmanagers import generate_preset_pass_manager\n",
        "pass_manager = generate_preset_pass_manager(optimization_level=1, backend=backend)"
      ],
      "metadata": {
        "id": "Dw-sZ-WTPBer"
      },
      "execution_count": 54,
      "outputs": []
    },
    {
      "cell_type": "code",
      "source": [
        "'''\n",
        "Estratégia QAOA\n",
        "'''\n",
        "import time\n",
        "inicio = time.time()\n",
        "\n",
        "# Profundidade\n",
        "p = 4\n",
        "print(f\"Profundidade: {p} (tipo: {type(p)}\")\n",
        "\n",
        "# Parâmetros iniciais\n",
        "parametros_iniciais = [2*np.pi*np.random.random() for k in range(2*p)]\n",
        "print(f\"Parâmetros iniciais: {parametros_iniciais}\")\n",
        "\n",
        "# Negativo de CorteQ\n",
        "def neg_CorteQ(parametros, n, w, p, estimator):\n",
        "    valor = CorteQ(parametros, n, w, p, estimator)\n",
        "    return -valor\n",
        "\n",
        "# Maximização de CorteQ (pela minimização de -CorteQ = neg_CorteQ)\n",
        "parametros = parametros_iniciais\n",
        "estimator = Estimator()\n",
        "corte = minimize(neg_CorteQ, parametros, args = (n, w, p, estimator), tol = 1/2**12, method=\"COBYLA\")\n",
        "parametros_max = corte.x\n",
        "corte_max = - corte.fun #Troca de sinal\n",
        "print(f\"Parâmetros finais: {parametros_max}\")\n",
        "print(f\"Corte: {corte_max}\")\n",
        "\n",
        "fim = time.time()\n",
        "print(f\"Tempo de execução: {(fim - inicio)/60} minutos\")"
      ],
      "metadata": {
        "colab": {
          "base_uri": "https://localhost:8080/"
        },
        "id": "OGIORRQTSERP",
        "outputId": "bacf2377-126d-43b8-9e6f-03858969f4c3"
      },
      "execution_count": 57,
      "outputs": [
        {
          "output_type": "stream",
          "name": "stdout",
          "text": [
            "Profundidade: 4 (tipo: <class 'int'>\n",
            "Parâmetros iniciais: [1.4363067983312678, 1.0980542301375351, 5.177453422950592, 1.18984763165332, 0.7051843261946449, 0.9941273356722612, 1.0661154166702311, 4.668654098949084]\n",
            "Parâmetros finais: [ 2.88506888  2.63013645  5.9145214   0.59957911 -0.04056422  1.49162857\n",
            "  0.61357717  5.16999813]\n",
            "Corte: 4.601568663808061\n",
            "Tempo de execução: 1.5378252188364665 minutos\n"
          ]
        }
      ]
    },
    {
      "cell_type": "code",
      "source": [
        "'''\n",
        "Pós-processamento\n",
        "'''\n",
        "\n",
        "g_vec = list(parametros_max[:p])\n",
        "b_vec = list(parametros_max[p:])\n",
        "\n",
        "circ = QAOA_Ansatz(n, w, p, g_vec, b_vec)\n",
        "\n",
        "# Estado de corte máximo\n",
        "estado_maxcut = estado_base_max(circ,n)\n",
        "print(f\"Estado-base de corte máximo: {estado_maxcut}\")\n",
        "\n",
        "# Partição de corte máximo\n",
        "A = []; B = []\n",
        "for k in range(n):\n",
        "    if estado_maxcut[k] == '1':\n",
        "        A.append(k)\n",
        "    else:\n",
        "        B.append(k)\n",
        "print(f\"Corte Máximo: {Corte(w,A)}. Partição de corte máximo: {(A,B)}\")"
      ],
      "metadata": {
        "id": "61BxoYm-b8F3",
        "colab": {
          "base_uri": "https://localhost:8080/"
        },
        "outputId": "4ae05654-343f-4060-cc52-d7d37dd17f4e"
      },
      "execution_count": 58,
      "outputs": [
        {
          "output_type": "stream",
          "name": "stdout",
          "text": [
            "Estado de corte máximo: 01010\n",
            "Corte Máximo: 5. Partição de corte máximo: ([1, 3], [0, 2, 4])\n"
          ]
        }
      ]
    },
    {
      "cell_type": "markdown",
      "source": [
        "### Exemplo 2: Grafo com 14 vértices e pesos variáveis"
      ],
      "metadata": {
        "id": "_--uh2zYcvJC"
      }
    },
    {
      "cell_type": "code",
      "source": [
        "'''\n",
        "Grafo\n",
        "'''\n",
        "\n",
        "n = 14\n",
        "print(f\"Dimensão do grafo: {n}\")\n",
        "\n",
        "w = [\n",
        "   [0.00,0.36,0.47,0.14,0.00,0.00,0.00,0.00,0.00,0.00,0.00,0.00,0.00,0.00],\n",
        "   [0.36,0.00,0.00,0.00,0.16,0.00,0.69,0.00,0.00,0.00,0.00,0.00,0.00,0.00],\n",
        "   [0.47,0.00,0.00,0.37,0.00,0.56,0.00,0.00,0.00,0.00,0.00,0.00,0.00,0.00],\n",
        "   [0.14,0.00,0.37,0.00,0.00,0.00,0.76,0.00,0.00,0.00,0.00,0.00,0.00,0.00],\n",
        "   [0.00,0.16,0.00,0.00,0.00,0.00,0.00,0.82,0.70,0.00,0.00,0.00,0.00,0.00],\n",
        "   [0.00,0.00,0.56,0.00,0.00,0.00,0.00,0.00,0.00,0.90,0.16,0.00,0.00,0.00],\n",
        "   [0.00,0.69,0.00,0.76,0.00,0.00,0.00,0.00,0.00,0.00,0.00,0.89,0.00,0.00],\n",
        "   [0.00,0.00,0.00,0.00,0.82,0.00,0.00,0.00,0.00,0.00,0.00,0.76,0.19,0.00],\n",
        "   [0.00,0.00,0.00,0.00,0.70,0.00,0.00,0.00,0.00,0.66,0.00,0.00,0.00,0.52],\n",
        "   [0.00,0.00,0.00,0.00,0.00,0.90,0.00,0.00,0.66,0.00,0.00,0.43,0.00,0.00],\n",
        "   [0.00,0.00,0.00,0.00,0.00,0.16,0.00,0.00,0.00,0.00,0.00,0.00,0.76,0.15],\n",
        "   [0.00,0.00,0.00,0.00,0.00,0.00,0.89,0.76,0.00,0.43,0.00,0.00,0.00,0.00],\n",
        "   [0.00,0.00,0.00,0.00,0.00,0.00,0.00,0.19,0.00,0.00,0.76,0.00,0.00,0.38],\n",
        "   [0.00,0.00,0.00,0.00,0.00,0.00,0.00,0.00,0.52,0.00,0.15,0.00,0.38,0.00]\n",
        "]\n",
        "print(\"Matriz de pesos:\")\n",
        "display(w)\n",
        "\n",
        "# Impressão do grafo\n",
        "import networkx as nx\n",
        "\n",
        "G = nx.Graph()\n",
        "vertices = range(n)\n",
        "G.add_nodes_from(vertices)\n",
        "\n",
        "arestas = []\n",
        "for i in range(n):\n",
        "    for j in range(n):\n",
        "        if w[i][j] != 0:\n",
        "            arestas.append((i,j))\n",
        "G.add_edges_from(arestas)\n",
        "\n",
        "print(\"Grafo:\")\n",
        "nx.draw(G, with_labels=True, alpha=0.8, node_size=200)"
      ],
      "metadata": {
        "colab": {
          "base_uri": "https://localhost:8080/",
          "height": 817
        },
        "id": "POctgwoVVKnh",
        "outputId": "a125969d-3e76-4cd4-fa07-a7fbfe38755a"
      },
      "execution_count": 61,
      "outputs": [
        {
          "output_type": "stream",
          "name": "stdout",
          "text": [
            "Dimensão do grafo: 14\n",
            "Matriz de pesos:\n"
          ]
        },
        {
          "output_type": "display_data",
          "data": {
            "text/plain": [
              "[[0.0, 0.36, 0.47, 0.14, 0.0, 0.0, 0.0, 0.0, 0.0, 0.0, 0.0, 0.0, 0.0, 0.0],\n",
              " [0.36, 0.0, 0.0, 0.0, 0.16, 0.0, 0.69, 0.0, 0.0, 0.0, 0.0, 0.0, 0.0, 0.0],\n",
              " [0.47, 0.0, 0.0, 0.37, 0.0, 0.56, 0.0, 0.0, 0.0, 0.0, 0.0, 0.0, 0.0, 0.0],\n",
              " [0.14, 0.0, 0.37, 0.0, 0.0, 0.0, 0.76, 0.0, 0.0, 0.0, 0.0, 0.0, 0.0, 0.0],\n",
              " [0.0, 0.16, 0.0, 0.0, 0.0, 0.0, 0.0, 0.82, 0.7, 0.0, 0.0, 0.0, 0.0, 0.0],\n",
              " [0.0, 0.0, 0.56, 0.0, 0.0, 0.0, 0.0, 0.0, 0.0, 0.9, 0.16, 0.0, 0.0, 0.0],\n",
              " [0.0, 0.69, 0.0, 0.76, 0.0, 0.0, 0.0, 0.0, 0.0, 0.0, 0.0, 0.89, 0.0, 0.0],\n",
              " [0.0, 0.0, 0.0, 0.0, 0.82, 0.0, 0.0, 0.0, 0.0, 0.0, 0.0, 0.76, 0.19, 0.0],\n",
              " [0.0, 0.0, 0.0, 0.0, 0.7, 0.0, 0.0, 0.0, 0.0, 0.66, 0.0, 0.0, 0.0, 0.52],\n",
              " [0.0, 0.0, 0.0, 0.0, 0.0, 0.9, 0.0, 0.0, 0.66, 0.0, 0.0, 0.43, 0.0, 0.0],\n",
              " [0.0, 0.0, 0.0, 0.0, 0.0, 0.16, 0.0, 0.0, 0.0, 0.0, 0.0, 0.0, 0.76, 0.15],\n",
              " [0.0, 0.0, 0.0, 0.0, 0.0, 0.0, 0.89, 0.76, 0.0, 0.43, 0.0, 0.0, 0.0, 0.0],\n",
              " [0.0, 0.0, 0.0, 0.0, 0.0, 0.0, 0.0, 0.19, 0.0, 0.0, 0.76, 0.0, 0.0, 0.38],\n",
              " [0.0, 0.0, 0.0, 0.0, 0.0, 0.0, 0.0, 0.0, 0.52, 0.0, 0.15, 0.0, 0.38, 0.0]]"
            ]
          },
          "metadata": {}
        },
        {
          "output_type": "stream",
          "name": "stdout",
          "text": [
            "Grafo:\n"
          ]
        },
        {
          "output_type": "display_data",
          "data": {
            "text/plain": [
              "<Figure size 640x480 with 1 Axes>"
            ],
            "image/png": "[encoded data removed]"
          },
          "metadata": {}
        }
      ]
    },
    {
      "cell_type": "code",
      "source": [
        "'''\n",
        "Resolução clássica\n",
        "'''\n",
        "\n",
        "# Uma partição e seu corte\n",
        "\n",
        "A = [0,5,6,7,8,12]\n",
        "B = []\n",
        "for k in range(len(w)):\n",
        "    if k not in A:\n",
        "        B.append(k)\n",
        "print(f\"Partição: {(A,B)}\")\n",
        "corte = Corte(w,A)\n",
        "print(f\"Corte da partição: {corte}\")"
      ],
      "metadata": {
        "colab": {
          "base_uri": "https://localhost:8080/"
        },
        "id": "0I-b1AzDYoCq",
        "outputId": "77cf80e7-a134-4b33-d8f6-3578cb4a0472"
      },
      "execution_count": 62,
      "outputs": [
        {
          "output_type": "stream",
          "name": "stdout",
          "text": [
            "Partição: ([0, 5, 6, 7, 8, 12], [1, 2, 3, 4, 9, 10, 11, 13])\n",
            "Corte da partição: 9.53\n"
          ]
        }
      ]
    },
    {
      "cell_type": "code",
      "source": [
        "'''\n",
        "Métodos para implementar estratégia QAOA\n",
        "'''\n",
        "\n",
        "# Serviço\n",
        "from qiskit_ibm_runtime import QiskitRuntimeService\n",
        "service = QiskitRuntimeService(\n",
        "    channel=\"ibm_cloud\",\n",
        "    token=\"7zAryvcpz2cTOgAbliiOL_A4qMyxg5Vq3nuHiBs1VENt\",\n",
        "    instance=\"crn:v1:bluemix:public:quantum-computing:us-east:a/8e99d0dd96d44fd08e92d06df59c1d0a:8c991a39-9205-4233-9c72-dda37b057ae6::\"\n",
        "    )\n",
        "\n",
        "## Backend fake\n",
        "from qiskit_ibm_runtime.fake_provider import FakeBrisbane\n",
        "backend = FakeBrisbane() # FakeBrisbane(): 127 qubits. Mais fake backends: 'https://quantum.cloud.ibm.com/docs/en/api/qiskit-ibm-runtime/fake-provider'\n",
        "\n",
        "# Initialize Estimator\n",
        "from qiskit_aer.primitives import EstimatorV2\n",
        "Estimator = EstimatorV2\n",
        "\n",
        "# Transpilador\n",
        "from qiskit.transpiler.preset_passmanagers import generate_preset_pass_manager\n",
        "pass_manager = generate_preset_pass_manager(optimization_level=1, backend=backend)"
      ],
      "metadata": {
        "id": "rebR0E44VVDU"
      },
      "execution_count": 63,
      "outputs": []
    },
    {
      "cell_type": "code",
      "source": [
        "'''\n",
        "Estratégia QAOA\n",
        "'''\n",
        "import time\n",
        "inicio = time.time()\n",
        "\n",
        "# Profundidade\n",
        "p = 5\n",
        "print(f\"Profundidade: {p} (tipo: {type(p)}\")\n",
        "\n",
        "# Parâmetros iniciais\n",
        "parametros_iniciais = [2*np.pi*np.random.random() for k in range(2*p)]\n",
        "print(f\"Parâmetros iniciais: {parametros_iniciais}\")\n",
        "\n",
        "# Negativo de CorteQ\n",
        "def neg_CorteQ(parametros, n, w, p, estimator):\n",
        "    valor = CorteQ(parametros, n, w, p, estimator)\n",
        "    return -valor\n",
        "\n",
        "# Maximização de CorteQ (pela minimização de -CorteQ = neg_CorteQ)\n",
        "num_iteracoes = 3\n",
        "for k in range(num_iteracoes):\n",
        "    parametros = parametros_iniciais\n",
        "    estimator = Estimator()\n",
        "    corte = minimize(neg_CorteQ, parametros, args = (n, w, p, estimator), tol = 1/2**12, method=\"COBYLA\")\n",
        "    parametros = corte.x\n",
        "    corte_max = - corte.fun #Troca de sinal\n",
        "    print(f\"Iteração: {k+1}\")\n",
        "    print(f\"Parâmetros finais: {parametros}\")\n",
        "    print(f\"Corte: {corte_max}\")\n",
        "parametros_max = parametros\n",
        "\n",
        "fim = time.time()\n",
        "print(f\"Tempo de execução: {(fim - inicio)/60} minutos\")"
      ],
      "metadata": {
        "colab": {
          "base_uri": "https://localhost:8080/"
        },
        "id": "Jf1FfE3CVelU",
        "outputId": "34a79115-4a6a-4237-cbdb-a068af044745"
      },
      "execution_count": null,
      "outputs": [
        {
          "output_type": "stream",
          "name": "stdout",
          "text": [
            "Profundidade: 5 (tipo: <class 'int'>\n",
            "Parâmetros iniciais: [4.375626321119913, 2.0584174978969267, 1.2605611380510213, 2.863745419161834, 5.605427782466016, 0.0469452316476046, 0.7508340299627962, 4.965376133327138, 4.622729276493296, 5.7654120315977435]\n"
          ]
        }
      ]
    },
    {
      "cell_type": "code",
      "source": [
        "'''\n",
        "Pós-processamento\n",
        "'''\n",
        "\n",
        "g_vec = list(parametros_max[:p])\n",
        "b_vec = list(parametros_max[p:])\n",
        "\n",
        "circ = QAOA_Ansatz(n, w, p, g_vec, b_vec)\n",
        "\n",
        "# Estado de corte máximo\n",
        "estado_maxcut = estado_base_max(circ,n)\n",
        "print(f\"Estado-base de corte máximo: {estado_maxcut}\")\n",
        "\n",
        "# Partição de corte máximo\n",
        "A = []; B = []\n",
        "for k in range(n):\n",
        "    if estado_maxcut[k] == '1':\n",
        "        A.append(k)\n",
        "    else:\n",
        "        B.append(k)\n",
        "print(f\"Corte Máximo: {Corte(w,A)}. Partição de corte máximo: {(A,B)}\")"
      ],
      "metadata": {
        "colab": {
          "base_uri": "https://localhost:8080/"
        },
        "id": "kY9jyeH0VhD6",
        "outputId": "9054296c-bed3-4521-d6dc-c5bfde3f9886"
      },
      "execution_count": 71,
      "outputs": [
        {
          "output_type": "stream",
          "name": "stdout",
          "text": [
            "Estado-base de corte máximo: 00101111001100\n",
            "Corte Máximo: 5.580000000000001. Partição de corte máximo: ([2, 4, 5, 6, 7, 10, 11], [0, 1, 3, 8, 9, 12, 13])\n"
          ]
        }
      ]
    }
  ]
}