{
  "cells": [
    {
      "cell_type": "markdown",
      "metadata": {
        "id": "view-in-github",
        "colab_type": "text"
      },
      "source": [
        "<a href=\"https://colab.research.google.com/github/LucioFassarella/ComQ/blob/main/ComQ_Quantizacao_de_funcao.ipynb\" target=\"_parent\"><img src=\"https://colab.research.google.com/assets/colab-badge.svg\" alt=\"Open In Colab\"/></a>"
      ]
    },
    {
      "cell_type": "markdown",
      "metadata": {
        "id": "-nJ-9DPj4oo7"
      },
      "source": [
        "# Quantização de função\n",
        "\n",
        "Dada uma função $f: \\mathbb{B}^n\\rightarrow \\mathbb{R}$, definimos o seguinte *estado de $f$* e *operador de $f$* no registro quântico de $n$ qubits, respectivamente:\n",
        "$$\n",
        "\\ket{f}:= \\frac{1}{\\norm{f}}\\sum_{z = 0}^{2^n-1}f(z)\\ket{z},\\ \\ \\norm{f}:= \\sqrt{\\sum_{z = 0}^{2^n-1} \\abs{f(z)}^2};\n",
        "$$\n",
        "$$\n",
        "\\begin{split}\n",
        "H_f  &= \\sum_{z = 0}^{2^n-1} f(z)\\ketbra{z}{z}.\n",
        "\\end{split}\n",
        "$$\n",
        "\n",
        "Considere a decomposição das projeções nos estados da base computacional de 1 qubit:\n",
        "$$\n",
        "\\ketbra{z}{z} = \\frac{I + (-1)^z Z}{2},\\ z \\in \\mathbb{B}.\n",
        "$$\n",
        "Então:\n",
        "$$\n",
        "\\begin{split}\n",
        "\\ketbra{\\mathbf{z}}{\\mathbf{z}} &= \\bigotimes_{k=0}^{2^n-1}\\frac{I + (-1)^{z_k}Z_k}{2}.\n",
        "\\end{split}\n",
        "$$\n",
        "Escrevendo\n",
        "$$\n",
        "\\mathbf{z} = (z_0, z_1, \\dots, z_{n}) = \\mathbf{z}'\\times \\left\\{z_n\\right\\},\\ \\ \\mathbf{z}' = (z_0, z_1, \\dots, z_{n-1}),\n",
        "$$\n",
        "deduzimos a seguinte relação de recorrência para $\\ketbra{\\mathbf{z}}{\\mathbf{z}}$:\n",
        "\n",
        "$$\n",
        "\\begin{split}\n",
        "\\ketbra{\\mathbf{z}}{\\mathbf{z}} &= \\ketbra{\\mathbf{z}'}{\\mathbf{z}'} \\otimes \\ketbra{z_n}{z_n}\\\\\n",
        "&= \\ketbra{\\mathbf{z}'}{\\mathbf{z}'} \\otimes \\left( \\frac{I+(-1)^{z_{n}}Z_n}{2} \\right)\\\\\n",
        "&= \\frac{1}{2}\\ketbra{\\mathbf{z}'}{\\mathbf{z}'} \\otimes I + %\n",
        "\\frac{(-1)^{z_{n}}}{2}\\ketbra{\\mathbf{z}'}{\\mathbf{z}'}\\otimes Z_n\n",
        "\\end{split}\n",
        "$$\n",
        "Essa relação de recorrência nos permite construir sistematicamente o operador de $f$ no registro quântico por um processo recursivo.\n"
      ]
    },
    {
      "cell_type": "markdown",
      "metadata": {
        "id": "zLtteeCl4uTM"
      },
      "source": [
        "## Instalação de pacotes e métodos"
      ]
    },
    {
      "cell_type": "code",
      "execution_count": null,
      "metadata": {
        "colab": {
          "base_uri": "https://localhost:8080/"
        },
        "collapsed": true,
        "id": "i95RDVGfG1JY",
        "outputId": "5660bbb8-238e-43b7-8118-1f2d05ef9a38"
      },
      "outputs": [
        {
          "output_type": "stream",
          "name": "stdout",
          "text": [
            "Collecting qiskit\n",
            "  Downloading qiskit-2.1.2-cp39-abi3-manylinux_2_17_x86_64.manylinux2014_x86_64.whl.metadata (12 kB)\n",
            "Collecting rustworkx>=0.15.0 (from qiskit)\n",
            "  Downloading rustworkx-0.17.1-cp39-abi3-manylinux_2_17_x86_64.manylinux2014_x86_64.whl.metadata (10 kB)\n",
            "Requirement already satisfied: numpy<3,>=1.17 in /usr/local/lib/python3.12/dist-packages (from qiskit) (2.0.2)\n",
            "Requirement already satisfied: scipy>=1.5 in /usr/local/lib/python3.12/dist-packages (from qiskit) (1.16.1)\n",
            "Requirement already satisfied: dill>=0.3 in /usr/local/lib/python3.12/dist-packages (from qiskit) (0.3.8)\n",
            "Collecting stevedore>=3.0.0 (from qiskit)\n",
            "  Downloading stevedore-5.5.0-py3-none-any.whl.metadata (2.2 kB)\n",
            "Requirement already satisfied: typing-extensions in /usr/local/lib/python3.12/dist-packages (from qiskit) (4.15.0)\n",
            "Downloading qiskit-2.1.2-cp39-abi3-manylinux_2_17_x86_64.manylinux2014_x86_64.whl (7.4 MB)\n",
            "\u001b[2K   \u001b[90m━━━━━━━━━━━━━━━━━━━━━━━━━━━━━━━━━━━━━━━━\u001b[0m \u001b[32m7.4/7.4 MB\u001b[0m \u001b[31m51.4 MB/s\u001b[0m eta \u001b[36m0:00:00\u001b[0m\n",
            "\u001b[?25hDownloading rustworkx-0.17.1-cp39-abi3-manylinux_2_17_x86_64.manylinux2014_x86_64.whl (2.2 MB)\n",
            "\u001b[2K   \u001b[90m━━━━━━━━━━━━━━━━━━━━━━━━━━━━━━━━━━━━━━━━\u001b[0m \u001b[32m2.2/2.2 MB\u001b[0m \u001b[31m67.1 MB/s\u001b[0m eta \u001b[36m0:00:00\u001b[0m\n",
            "\u001b[?25hDownloading stevedore-5.5.0-py3-none-any.whl (49 kB)\n",
            "\u001b[2K   \u001b[90m━━━━━━━━━━━━━━━━━━━━━━━━━━━━━━━━━━━━━━━━\u001b[0m \u001b[32m49.5/49.5 kB\u001b[0m \u001b[31m3.6 MB/s\u001b[0m eta \u001b[36m0:00:00\u001b[0m\n",
            "\u001b[?25hInstalling collected packages: stevedore, rustworkx, qiskit\n",
            "Successfully installed qiskit-2.1.2 rustworkx-0.17.1 stevedore-5.5.0\n",
            "Collecting qiskit_aer\n",
            "  Downloading qiskit_aer-0.17.1-cp312-cp312-manylinux_2_17_x86_64.manylinux2014_x86_64.whl.metadata (8.3 kB)\n",
            "Requirement already satisfied: qiskit>=1.1.0 in /usr/local/lib/python3.12/dist-packages (from qiskit_aer) (2.1.2)\n",
            "Requirement already satisfied: numpy>=1.16.3 in /usr/local/lib/python3.12/dist-packages (from qiskit_aer) (2.0.2)\n",
            "Requirement already satisfied: scipy>=1.0 in /usr/local/lib/python3.12/dist-packages (from qiskit_aer) (1.16.1)\n",
            "Requirement already satisfied: psutil>=5 in /usr/local/lib/python3.12/dist-packages (from qiskit_aer) (5.9.5)\n",
            "Requirement already satisfied: python-dateutil>=2.8.0 in /usr/local/lib/python3.12/dist-packages (from qiskit_aer) (2.9.0.post0)\n",
            "Requirement already satisfied: six>=1.5 in /usr/local/lib/python3.12/dist-packages (from python-dateutil>=2.8.0->qiskit_aer) (1.17.0)\n",
            "Requirement already satisfied: rustworkx>=0.15.0 in /usr/local/lib/python3.12/dist-packages (from qiskit>=1.1.0->qiskit_aer) (0.17.1)\n",
            "Requirement already satisfied: dill>=0.3 in /usr/local/lib/python3.12/dist-packages (from qiskit>=1.1.0->qiskit_aer) (0.3.8)\n",
            "Requirement already satisfied: stevedore>=3.0.0 in /usr/local/lib/python3.12/dist-packages (from qiskit>=1.1.0->qiskit_aer) (5.5.0)\n",
            "Requirement already satisfied: typing-extensions in /usr/local/lib/python3.12/dist-packages (from qiskit>=1.1.0->qiskit_aer) (4.15.0)\n",
            "Downloading qiskit_aer-0.17.1-cp312-cp312-manylinux_2_17_x86_64.manylinux2014_x86_64.whl (12.4 MB)\n",
            "\u001b[2K   \u001b[90m━━━━━━━━━━━━━━━━━━━━━━━━━━━━━━━━━━━━━━━━\u001b[0m \u001b[32m12.4/12.4 MB\u001b[0m \u001b[31m134.0 MB/s\u001b[0m eta \u001b[36m0:00:00\u001b[0m\n",
            "\u001b[?25hInstalling collected packages: qiskit_aer\n",
            "Successfully installed qiskit_aer-0.17.1\n",
            "Collecting qiskit-ibm-runtime\n",
            "  Downloading qiskit_ibm_runtime-0.41.1-py3-none-any.whl.metadata (21 kB)\n",
            "Requirement already satisfied: requests>=2.19 in /usr/local/lib/python3.12/dist-packages (from qiskit-ibm-runtime) (2.32.4)\n",
            "Collecting requests-ntlm>=1.1.0 (from qiskit-ibm-runtime)\n",
            "  Downloading requests_ntlm-1.3.0-py3-none-any.whl.metadata (2.4 kB)\n",
            "Requirement already satisfied: numpy>=1.13 in /usr/local/lib/python3.12/dist-packages (from qiskit-ibm-runtime) (2.0.2)\n",
            "Requirement already satisfied: urllib3>=1.21.1 in /usr/local/lib/python3.12/dist-packages (from qiskit-ibm-runtime) (2.5.0)\n",
            "Requirement already satisfied: python-dateutil>=2.8.0 in /usr/local/lib/python3.12/dist-packages (from qiskit-ibm-runtime) (2.9.0.post0)\n",
            "Collecting ibm-platform-services>=0.22.6 (from qiskit-ibm-runtime)\n",
            "  Downloading ibm_platform_services-0.68.2-py3-none-any.whl.metadata (9.0 kB)\n",
            "Requirement already satisfied: pydantic>=2.5.0 in /usr/local/lib/python3.12/dist-packages (from qiskit-ibm-runtime) (2.11.7)\n",
            "Requirement already satisfied: qiskit>=1.4.1 in /usr/local/lib/python3.12/dist-packages (from qiskit-ibm-runtime) (2.1.2)\n",
            "Requirement already satisfied: packaging in /usr/local/lib/python3.12/dist-packages (from qiskit-ibm-runtime) (25.0)\n",
            "Collecting ibm_cloud_sdk_core<4.0.0,>=3.24.2 (from ibm-platform-services>=0.22.6->qiskit-ibm-runtime)\n",
            "  Downloading ibm_cloud_sdk_core-3.24.2-py3-none-any.whl.metadata (8.7 kB)\n",
            "Requirement already satisfied: annotated-types>=0.6.0 in /usr/local/lib/python3.12/dist-packages (from pydantic>=2.5.0->qiskit-ibm-runtime) (0.7.0)\n",
            "Requirement already satisfied: pydantic-core==2.33.2 in /usr/local/lib/python3.12/dist-packages (from pydantic>=2.5.0->qiskit-ibm-runtime) (2.33.2)\n",
            "Requirement already satisfied: typing-extensions>=4.12.2 in /usr/local/lib/python3.12/dist-packages (from pydantic>=2.5.0->qiskit-ibm-runtime) (4.15.0)\n",
            "Requirement already satisfied: typing-inspection>=0.4.0 in /usr/local/lib/python3.12/dist-packages (from pydantic>=2.5.0->qiskit-ibm-runtime) (0.4.1)\n",
            "Requirement already satisfied: six>=1.5 in /usr/local/lib/python3.12/dist-packages (from python-dateutil>=2.8.0->qiskit-ibm-runtime) (1.17.0)\n",
            "Requirement already satisfied: rustworkx>=0.15.0 in /usr/local/lib/python3.12/dist-packages (from qiskit>=1.4.1->qiskit-ibm-runtime) (0.17.1)\n",
            "Requirement already satisfied: scipy>=1.5 in /usr/local/lib/python3.12/dist-packages (from qiskit>=1.4.1->qiskit-ibm-runtime) (1.16.1)\n",
            "Requirement already satisfied: dill>=0.3 in /usr/local/lib/python3.12/dist-packages (from qiskit>=1.4.1->qiskit-ibm-runtime) (0.3.8)\n",
            "Requirement already satisfied: stevedore>=3.0.0 in /usr/local/lib/python3.12/dist-packages (from qiskit>=1.4.1->qiskit-ibm-runtime) (5.5.0)\n",
            "Requirement already satisfied: charset_normalizer<4,>=2 in /usr/local/lib/python3.12/dist-packages (from requests>=2.19->qiskit-ibm-runtime) (3.4.3)\n",
            "Requirement already satisfied: idna<4,>=2.5 in /usr/local/lib/python3.12/dist-packages (from requests>=2.19->qiskit-ibm-runtime) (3.10)\n",
            "Requirement already satisfied: certifi>=2017.4.17 in /usr/local/lib/python3.12/dist-packages (from requests>=2.19->qiskit-ibm-runtime) (2025.8.3)\n",
            "Requirement already satisfied: cryptography>=1.3 in /usr/local/lib/python3.12/dist-packages (from requests-ntlm>=1.1.0->qiskit-ibm-runtime) (43.0.3)\n",
            "Collecting pyspnego>=0.4.0 (from requests-ntlm>=1.1.0->qiskit-ibm-runtime)\n",
            "  Downloading pyspnego-0.12.0-py3-none-any.whl.metadata (4.1 kB)\n",
            "Requirement already satisfied: cffi>=1.12 in /usr/local/lib/python3.12/dist-packages (from cryptography>=1.3->requests-ntlm>=1.1.0->qiskit-ibm-runtime) (1.17.1)\n",
            "Requirement already satisfied: PyJWT<3.0.0,>=2.10.1 in /usr/local/lib/python3.12/dist-packages (from ibm_cloud_sdk_core<4.0.0,>=3.24.2->ibm-platform-services>=0.22.6->qiskit-ibm-runtime) (2.10.1)\n",
            "Requirement already satisfied: pycparser in /usr/local/lib/python3.12/dist-packages (from cffi>=1.12->cryptography>=1.3->requests-ntlm>=1.1.0->qiskit-ibm-runtime) (2.22)\n",
            "Downloading qiskit_ibm_runtime-0.41.1-py3-none-any.whl (1.4 MB)\n",
            "\u001b[2K   \u001b[90m━━━━━━━━━━━━━━━━━━━━━━━━━━━━━━━━━━━━━━━━\u001b[0m \u001b[32m1.4/1.4 MB\u001b[0m \u001b[31m32.3 MB/s\u001b[0m eta \u001b[36m0:00:00\u001b[0m\n",
            "\u001b[?25hDownloading ibm_platform_services-0.68.2-py3-none-any.whl (366 kB)\n",
            "\u001b[2K   \u001b[90m━━━━━━━━━━━━━━━━━━━━━━━━━━━━━━━━━━━━━━━━\u001b[0m \u001b[32m366.8/366.8 kB\u001b[0m \u001b[31m29.1 MB/s\u001b[0m eta \u001b[36m0:00:00\u001b[0m\n",
            "\u001b[?25hDownloading requests_ntlm-1.3.0-py3-none-any.whl (6.6 kB)\n",
            "Downloading ibm_cloud_sdk_core-3.24.2-py3-none-any.whl (75 kB)\n",
            "\u001b[2K   \u001b[90m━━━━━━━━━━━━━━━━━━━━━━━━━━━━━━━━━━━━━━━━\u001b[0m \u001b[32m75.8/75.8 kB\u001b[0m \u001b[31m6.1 MB/s\u001b[0m eta \u001b[36m0:00:00\u001b[0m\n",
            "\u001b[?25hDownloading pyspnego-0.12.0-py3-none-any.whl (130 kB)\n",
            "\u001b[2K   \u001b[90m━━━━━━━━━━━━━━━━━━━━━━━━━━━━━━━━━━━━━━━━\u001b[0m \u001b[32m130.2/130.2 kB\u001b[0m \u001b[31m11.8 MB/s\u001b[0m eta \u001b[36m0:00:00\u001b[0m\n",
            "\u001b[?25hInstalling collected packages: ibm_cloud_sdk_core, pyspnego, ibm-platform-services, requests-ntlm, qiskit-ibm-runtime\n",
            "Successfully installed ibm-platform-services-0.68.2 ibm_cloud_sdk_core-3.24.2 pyspnego-0.12.0 qiskit-ibm-runtime-0.41.1 requests-ntlm-1.3.0\n",
            "Requirement already satisfied: matplotlib in /usr/local/lib/python3.12/dist-packages (3.10.0)\n",
            "Requirement already satisfied: contourpy>=1.0.1 in /usr/local/lib/python3.12/dist-packages (from matplotlib) (1.3.3)\n",
            "Requirement already satisfied: cycler>=0.10 in /usr/local/lib/python3.12/dist-packages (from matplotlib) (0.12.1)\n",
            "Requirement already satisfied: fonttools>=4.22.0 in /usr/local/lib/python3.12/dist-packages (from matplotlib) (4.59.1)\n",
            "Requirement already satisfied: kiwisolver>=1.3.1 in /usr/local/lib/python3.12/dist-packages (from matplotlib) (1.4.9)\n",
            "Requirement already satisfied: numpy>=1.23 in /usr/local/lib/python3.12/dist-packages (from matplotlib) (2.0.2)\n",
            "Requirement already satisfied: packaging>=20.0 in /usr/local/lib/python3.12/dist-packages (from matplotlib) (25.0)\n",
            "Requirement already satisfied: pillow>=8 in /usr/local/lib/python3.12/dist-packages (from matplotlib) (11.3.0)\n",
            "Requirement already satisfied: pyparsing>=2.3.1 in /usr/local/lib/python3.12/dist-packages (from matplotlib) (3.2.3)\n",
            "Requirement already satisfied: python-dateutil>=2.7 in /usr/local/lib/python3.12/dist-packages (from matplotlib) (2.9.0.post0)\n",
            "Requirement already satisfied: six>=1.5 in /usr/local/lib/python3.12/dist-packages (from python-dateutil>=2.7->matplotlib) (1.17.0)\n",
            "Collecting pylatexenc\n",
            "  Downloading pylatexenc-2.10.tar.gz (162 kB)\n",
            "\u001b[2K     \u001b[90m━━━━━━━━━━━━━━━━━━━━━━━━━━━━━━━━━━━━━━━\u001b[0m \u001b[32m162.6/162.6 kB\u001b[0m \u001b[31m5.6 MB/s\u001b[0m eta \u001b[36m0:00:00\u001b[0m\n",
            "\u001b[?25h  Preparing metadata (setup.py) ... \u001b[?25l\u001b[?25hdone\n",
            "Building wheels for collected packages: pylatexenc\n",
            "  Building wheel for pylatexenc (setup.py) ... \u001b[?25l\u001b[?25hdone\n",
            "  Created wheel for pylatexenc: filename=pylatexenc-2.10-py3-none-any.whl size=136817 sha256=b71b862f759b1fd17400790dc3e560082aa4b9081707060042df106d42b7dcab\n",
            "  Stored in directory: /root/.cache/pip/wheels/06/3e/78/fa1588c1ae991bbfd814af2bcac6cef7a178beee1939180d46\n",
            "Successfully built pylatexenc\n",
            "Installing collected packages: pylatexenc\n",
            "Successfully installed pylatexenc-2.10\n"
          ]
        }
      ],
      "source": [
        "'''\n",
        "Instalação do Qiskit e pacotes de visualização\n",
        "'''\n",
        "!pip install qiskit -U\n",
        "!pip install qiskit_aer\n",
        "!pip install qiskit-ibm-runtime\n",
        "\n",
        "import qiskit\n",
        "qiskit.__version__\n",
        "\n",
        "!pip install matplotlib\n",
        "!pip install pylatexenc"
      ]
    },
    {
      "cell_type": "code",
      "execution_count": null,
      "metadata": {
        "id": "ivgHfUpsrOvq"
      },
      "outputs": [],
      "source": [
        "'''\n",
        "Pacotes e Métodos\n",
        "'''\n",
        "\n",
        "# NumPy e SciPy\n",
        "import numpy as np\n",
        "import scipy as sp\n",
        "\n",
        "# Minimizador do SciPy\n",
        "from scipy.optimize import minimize\n",
        "\n",
        "# Métodos do Qiskit\n",
        "from qiskit import QuantumCircuit, ClassicalRegister, QuantumRegister, transpile\n",
        "from qiskit.quantum_info import SparsePauliOp, Statevector, Operator\n",
        "from qiskit.visualization import plot_histogram, array_to_latex, plot_state_city\n",
        "from qiskit.transpiler.preset_passmanagers import generate_preset_pass_manager\n",
        "#from qiskit.circuit.library import QAOAAnsatz\n",
        "\n",
        "# Estimadores do Qiskit\n",
        "from qiskit_aer.primitives import Estimator # <-- Estimator para simulação clássica\n",
        "from qiskit_ibm_runtime import EstimatorV2 as Estimator # <-- Estimator para computação quântica\n",
        "from qiskit_ibm_runtime import SamplerV2 as Sampler # <-- Estimator para computação quântica\n",
        "\n",
        "# Qiskit Runtime\n",
        "#from qiskit_ibm_runtime import QiskitRuntimeService, Session\n",
        "\n",
        "import time"
      ]
    },
    {
      "cell_type": "code",
      "execution_count": null,
      "metadata": {
        "id": "u3EJV1QqzLHC"
      },
      "outputs": [],
      "source": [
        "'''\n",
        "Métodos para execução da estratégia QAOA\n",
        "'''\n",
        "\n",
        "# Conecção com a IBM\n",
        "\n",
        "token_privado = \"...\" # <-- Inserir token privado na IBM\n",
        "instance_do_projeto = \"...\" # <-- Inserir instance do projeto\n",
        "\n",
        "from qiskit_ibm_runtime import QiskitRuntimeService\n",
        "service = QiskitRuntimeService(\n",
        "    channel=\"ibm_cloud\",\n",
        "    token = token_privado,\n",
        "    instance = instance_do_projeto\n",
        "    )\n",
        "\n",
        "## Backend fake\n",
        "from qiskit_ibm_runtime.fake_provider import FakeBrisbane\n",
        "backend = FakeBrisbane() # FakeBrisbane(): 127 qubits. Mais fake backends: 'https://quantum.cloud.ibm.com/docs/en/api/qiskit-ibm-runtime/fake-provider'\n",
        "\n",
        "# Importação do Estimator\n",
        "from qiskit_aer.primitives import EstimatorV2\n",
        "Estimator = EstimatorV2\n",
        "\n",
        "# Importação do Sampler\n",
        "## Simulação local\n",
        "from qiskit.primitives import StatevectorSampler # For local simulation\n",
        "sampler = StatevectorSampler()\n",
        "## Simulação na IBM:\n",
        "#from qiskit_ibm_runtime import SamplerV2\n",
        "# sampler = SamplerV2(mode = backend)\n",
        "\n",
        "# Transpilador\n",
        "\n",
        "from qiskit.transpiler.preset_passmanagers import generate_preset_pass_manager\n",
        "pass_manager = generate_preset_pass_manager(optimization_level=1, backend=backend)"
      ]
    },
    {
      "cell_type": "markdown",
      "metadata": {
        "id": "q5CmO4j-43SH"
      },
      "source": [
        "## Funções primitivas e métodos específicos"
      ]
    },
    {
      "cell_type": "code",
      "source": [
        "def qiskit_estimator(circuito_sem_medidas, hamiltoniano, precisao = None, backend = None):\n",
        "    '''\n",
        "    Método para executar o Estimator\n",
        "\n",
        "    Input:\n",
        "        circuito : circuito quântico que prepara um estado de qubits\n",
        "        hamiltoniano (SparsePauliOp): hamiltoniano a ser medido\n",
        "        precisao (float): precisão do resultado\n",
        "        backend  : backend para rodar o Estimator\n",
        "\n",
        "    Saída:\n",
        "        resultado do Estimator\n",
        "    '''\n",
        "\n",
        "    # Importação de métodos e backend\n",
        "\n",
        "    from qiskit_ibm_runtime import EstimatorV2 as Estimator\n",
        "    from qiskit.transpiler import generate_preset_pass_manager\n",
        "\n",
        "    # Use the existing service object\n",
        "    # service = QiskitRuntimeService()\n",
        "    if backend is None:\n",
        "        from qiskit_ibm_runtime.fake_provider import FakeBrisbane\n",
        "        backend = FakeBrisbane()\n",
        "    else:\n",
        "        backend = backend\n",
        "\n",
        "    if precisao is None:\n",
        "        precisao = 2**(-10)\n",
        "    else:\n",
        "        precisao = precisao\n",
        "\n",
        "    # Transpilação\n",
        "\n",
        "    pm = generate_preset_pass_manager(backend = backend, optimization_level=1)\n",
        "    isa_circuito = pm.run(circuito_sem_medidas)\n",
        "    isa_hamiltoniano = hamiltoniano.apply_layout(isa_circuito.layout)\n",
        "\n",
        "    # Estimator:\n",
        "\n",
        "    estimator = Estimator(mode=backend)\n",
        "\n",
        "    # Job\n",
        "    job = estimator.run([(isa_circuito, isa_hamiltoniano, )])\n",
        "    pub_result = job.result()[0]\n",
        "\n",
        "    return pub_result.data.evs"
      ],
      "metadata": {
        "id": "iD775G9B4_km"
      },
      "execution_count": null,
      "outputs": []
    },
    {
      "cell_type": "code",
      "source": [
        "def qiskit_sampler(circuito_com_medidas, shots = None, backend = None):\n",
        "    '''\n",
        "    Método para executar o Sampler\n",
        "\n",
        "    Input:\n",
        "        circuito : circuito quântico que prepara um estado de qubits\n",
        "        backend  : backend para rodar o Sampler\n",
        "\n",
        "    Saída:\n",
        "        resultado do Sampler\n",
        "\n",
        "    Observação: os resultados do Sampler são rotulados pelo nomes dos registros clássicos.\n",
        "                Para um circuito com medidas definidas por 'measure_all', o rótulo é 'meas'.\n",
        "                Para circuitos com medidas definidas de início sem denominação explícita,\n",
        "                os rótulos são 'c', 'c1', 'c2', etc.\n",
        "    '''\n",
        "\n",
        "    # Importação de métodos e backend\n",
        "\n",
        "    from qiskit_ibm_runtime import SamplerV2 as Sampler\n",
        "\n",
        "    if backend is None:\n",
        "        from qiskit_ibm_runtime.fake_provider import FakeBrisbane\n",
        "        backend = FakeBrisbane()\n",
        "    else:\n",
        "        backend = backend\n",
        "\n",
        "    from qiskit.transpiler import generate_preset_pass_manager\n",
        "    pm = generate_preset_pass_manager(optimization_level=2, backend = backend)\n",
        "\n",
        "    # Transpilação\n",
        "\n",
        "    isa_circuitos = pm.run(circuito_com_medidas)\n",
        "\n",
        "    if shots is None:\n",
        "        shots = 2**10\n",
        "    else:\n",
        "        shots = shots\n",
        "\n",
        "    sampler = Sampler(backend)\n",
        "    job = sampler.run([(isa_circuitos, )], shots = shots)\n",
        "    result = job.result()\n",
        "    counts = result[0].data['meas'].get_counts()\n",
        "\n",
        "    return counts, result"
      ],
      "metadata": {
        "id": "Duh0mrz-Gpb5"
      },
      "execution_count": null,
      "outputs": []
    },
    {
      "cell_type": "code",
      "execution_count": null,
      "metadata": {
        "id": "nivR4EXjI63B"
      },
      "outputs": [],
      "source": [
        "def binario(z = 'int', num_bits = 'int'):\n",
        "    '''\n",
        "    Método que recebe um número inteiro e retorna a lista dos coeficientes de sua\n",
        "     representação binária em ordem anti-lexicográfica (da direita para a esquerda).\n",
        "\n",
        "    Entrada:\n",
        "        z (int): número inteiro\n",
        "\n",
        "    Saída:\n",
        "        bits (list): lista dos coeficientes de sua representação binária\n",
        "\n",
        "    '''\n",
        "\n",
        "    string = bin(z)[2:].zfill(num_bits)\n",
        "    lista = [int(bit) for bit in list(string)]\n",
        "    lista.reverse()\n",
        "    return lista\n",
        "\n",
        "def operador_projecao(bits = list, num_qubits = 'int'):\n",
        "    '''\n",
        "    Método que recebe uma lista binária e retorna uma lista com formato do argumento\n",
        "     do método \"from_sparse_list\" do método SparsePauliOp do Qiskit,\n",
        "     com a diferença de que os elementos do resultado são lists e não tuples.\n",
        "    Exemplo de saída (com apenas dois termos):\n",
        "     [(\"I\",[0],.25), (\"Z\", [0], .25), (\"Z\", [1], .25), (\"ZZ\", [0,1], .25)]\n",
        "\n",
        "    Entrada:\n",
        "        bits: lista binária\n",
        "        num_qubits: número total de qubits\n",
        "\n",
        "    Saída:\n",
        "        lista com formato do argumento do método \"from_sparse_list\" do método SparsePauliOp do Qiskit.\n",
        "\n",
        "    Métodos requeridos:\n",
        "        from qiskit import QuantumCircuit\n",
        "        from qiskit.quantum_info import SparsePauliOp\n",
        "\n",
        "    '''\n",
        "\n",
        "    # Validação da entrada\n",
        "\n",
        "    if type(bits) != list:\n",
        "        return print(\"O argumento 'z' deve ser uma lista binária (cujos termos são inteiros '0' ou '1').\")\n",
        "\n",
        "    for bit in bits:\n",
        "        if bit != 0 and bit != 1:\n",
        "            return print(\"O argumento 'z' deve ser uma lista binária (cujos termos são inteiros '0' ou '1').\")\n",
        "\n",
        "    # Parte principal\n",
        "\n",
        "    n = len(bits)\n",
        "\n",
        "    if n == 1:\n",
        "        proj = SparsePauliOp([\"I\", \"Z\"], [0.5, ((-1)**(bits[0]))*0.5])\n",
        "\n",
        "        # Completamento do tamanho\n",
        "        if num_qubits > 1:\n",
        "            proj = proj.expand(SparsePauliOp(\"I\"*(num_qubits-1), [1]))\n",
        "        return proj\n",
        "\n",
        "    else:\n",
        "        proj = SparsePauliOp([\"I\", \"Z\"], [0.5, ((-1)**bits[n-1])*0.5])\n",
        "        pauli = projecao(bits[0:n-1], n-1).expand(proj)\n",
        "\n",
        "        # Completamento do tamanho\n",
        "        if num_qubits > n:\n",
        "             pauli = pauli.expand(SparsePauliOp(\"I\"*(num_qubits-n), [1]))\n",
        "\n",
        "        pauli = pauli.simplify()\n",
        "        return pauli"
      ]
    },
    {
      "cell_type": "code",
      "source": [
        "def operador_funcao(funcao = 'function', num_qubits = 'int'):\n",
        "    '''\n",
        "\n",
        "    Método que constrói o operador de uma função complexa com variáveis inteiras\n",
        "\n",
        "    Entradas:\n",
        "        num_qubits  (int): número de qubits do circuito\n",
        "        funcao (function): funcao real com variável inteira\n",
        "\n",
        "    Saída:\n",
        "        H (SparsePauliOp): operador\n",
        "\n",
        "    Métodos requeridos:\n",
        "        from qiskit import QuantumCircuit\n",
        "        from qiskit.quantum_info import SparsePauliOp\n",
        "\n",
        "    '''\n",
        "\n",
        "    projecoes_lista = []\n",
        "\n",
        "    for z in range(2**num_qubits):\n",
        "        bits = binario(z, num_qubits)\n",
        "        proj = operador_projecao(bits, num_qubits)\n",
        "        coeficiente = SparsePauliOp(\"I\"*num_qubits, funcao(z))\n",
        "        proj_funcao = coeficiente.compose(proj)\n",
        "        projecoes_lista.append(proj_funcao)\n",
        "\n",
        "    H = sum(projecoes_lista).simplify()\n",
        "\n",
        "    return H"
      ],
      "metadata": {
        "id": "fWG2x0y566Pc"
      },
      "execution_count": null,
      "outputs": []
    },
    {
      "cell_type": "code",
      "source": [
        "def circuito_funcao(funcao = 'function', num_qubits = 'int'):\n",
        "    '''\n",
        "    Método que contrói o circuito que implementa o estado quântico da função 'funcao'.\n",
        "    A construção é realizada via método \"initialize\" do QuantumCircuit do Qiskit.\n",
        "\n",
        "    Entradas:\n",
        "        num_qubits  (int): número de qubits do circuito\n",
        "        funcao (function): funcao real com variável inteira\n",
        "\n",
        "    Saída:\n",
        "        qc: circuito quântico (sem medidas)\n",
        "\n",
        "    Métodos requeridos:\n",
        "        from qiskit import QuantumCircuit\n",
        "        from qiskit.quantum_info import Statevector\n",
        "\n",
        "    '''\n",
        "\n",
        "    '''\n",
        "    ### Verificação da consistência dos dados de entrada\n",
        "    '''\n",
        "\n",
        "    if type(num_qubits) != int:\n",
        "        return print(\"O segundo argumento 'num_qubits' deve ser um inteiro positivo.\")\n",
        "\n",
        "    '''\n",
        "    ### Código principal\n",
        "    '''\n",
        "    norma = 0\n",
        "    for k in range(2**num_qubits):\n",
        "        norma += funcao(k)**2\n",
        "    norma = np.sqrt(norma)\n",
        "\n",
        "    if norma == 0:\n",
        "        return print(\"A função é nula.\")\n",
        "\n",
        "    amplitudes = [f(k)/norma for k in range(2**num_qubits)]\n",
        "    #np_coeficientes = np.array(amplitudes)\n",
        "\n",
        "    estado_vetor = Statevector(amplitudes)\n",
        "\n",
        "    qc = QuantumCircuit(num_qubits)\n",
        "\n",
        "    qc.initialize(estado_vetor)\n",
        "\n",
        "    return qc\n"
      ],
      "metadata": {
        "id": "d99YekBTVYY3"
      },
      "execution_count": null,
      "outputs": []
    },
    {
      "cell_type": "code",
      "source": [
        "def circuito_estadoBase(z = 'int', num_qubits = 'int'):\n",
        "    '''\n",
        "    Método que recebe um número inteiro 'z' e o número de qubits 'num_qubits' para\n",
        "     retornar o circuito quântico com 'num_qubits' qubits no registro quântico\n",
        "     preparado no estado da base computacional correspondente ao número 'z'.\n",
        "\n",
        "    Entradas:\n",
        "        z (int): número inteiro\n",
        "        num_qubits (int): número de qubits\n",
        "\n",
        "    Saída:\n",
        "        qc (QuantumCircuit): circuito quântico\n",
        "\n",
        "    Métodos requeridos:\n",
        "        binario (function): retorna a lista dos coeficientes de sua representação binária em ordem anti-lexicográfica (da direita para a esquerda)\n",
        "        from qiskit import QuantumCircuit\n",
        "    '''\n",
        "\n",
        "    # Verificação da consistência dos dados de entrada\n",
        "    if type(z) != int:\n",
        "        return print(\"O primeiro argumento 'z' deve ser um inteiro positivo.\")\n",
        "\n",
        "    if type(num_qubits) != int:\n",
        "        return print(\"O segundo argumento 'num_qubits' deve ser um inteiro positivo.\")\n",
        "\n",
        "    if z >= 2**num_qubits:\n",
        "        return print(\"O primeiro argumento 'z' deve ser menor do que 2 na potência do segundo argumento 'num_qubits'.\")\n",
        "\n",
        "    bits = binario(z, num_qubits)\n",
        "    qc = QuantumCircuit(num_qubits)\n",
        "    for k in range(num_qubits):\n",
        "        if bits[k] == 1:\n",
        "            qc.x(k)\n",
        "    return qc"
      ],
      "metadata": {
        "id": "VxfjDvauQgat"
      },
      "execution_count": null,
      "outputs": []
    },
    {
      "cell_type": "markdown",
      "source": [
        "# Testes"
      ],
      "metadata": {
        "id": "zO8yGxnysbTZ"
      }
    },
    {
      "cell_type": "code",
      "source": [
        "'''\n",
        "TESTE do método 'circuito_estadoBase'\n",
        "\n",
        "Racional do teste:\n",
        "\n",
        "O método 'circuito_estadoBase' recebe um número inteiro 'z' e retorna o circuito que\n",
        " prepara o correspondente estado da base computacional.\n",
        " Portanto, a medida na base computacional de um ensamble de circuitos preparados\n",
        " no estado '|z>' deve resultar no estado |z> com probabilidade 100%.\n",
        "'''\n",
        "\n",
        "z = 5\n",
        "num_qubits = 4\n",
        "print(f\"Número {5}. Número de qubits = {num_qubits}\")\n",
        "qc = circuito_estadoBase(z, num_qubits)\n",
        "print(f\"Circuito estadoBase |{z}>:\")\n",
        "display(qc.draw())\n",
        "\n",
        "# Experimento\n",
        "qc.measure_all()\n",
        "print(f\"Circuito medindo o estado |{z}>:\")\n",
        "display(qc.draw())\n",
        "\n",
        "counts = qiskit_sampler(qc, 2**10)\n",
        "print(counts)\n",
        "print(f\"Contagens: {counts[0]}\")\n",
        "\n",
        "# Visualização\n",
        "from qiskit.visualization import plot_histogram\n",
        "plot_histogram(counts[0])"
      ],
      "metadata": {
        "colab": {
          "base_uri": "https://localhost:8080/",
          "height": 904
        },
        "id": "V9NDYBPHgzo9",
        "outputId": "d4e93bcc-5585-4306-d2ce-511d191f70c5"
      },
      "execution_count": null,
      "outputs": [
        {
          "output_type": "stream",
          "name": "stdout",
          "text": [
            "Número 5. Número de qubits = 4\n",
            "Circuito estadoBase |5>:\n"
          ]
        },
        {
          "output_type": "display_data",
          "data": {
            "text/plain": [
              "     ┌───┐\n",
              "q_0: ┤ X ├\n",
              "     └───┘\n",
              "q_1: ─────\n",
              "     ┌───┐\n",
              "q_2: ┤ X ├\n",
              "     └───┘\n",
              "q_3: ─────\n",
              "          "
            ],
            "text/html": [
              "<pre style=\"word-wrap: normal;white-space: pre;background: #fff0;line-height: 1.1;font-family: &quot;Courier New&quot;,Courier,monospace\">     ┌───┐\n",
              "q_0: ┤ X ├\n",
              "     └───┘\n",
              "q_1: ─────\n",
              "     ┌───┐\n",
              "q_2: ┤ X ├\n",
              "     └───┘\n",
              "q_3: ─────\n",
              "          </pre>"
            ]
          },
          "metadata": {}
        },
        {
          "output_type": "stream",
          "name": "stdout",
          "text": [
            "Circuito medindo o estado |5>:\n"
          ]
        },
        {
          "output_type": "display_data",
          "data": {
            "text/plain": [
              "        ┌───┐ ░ ┌─┐         \n",
              "   q_0: ┤ X ├─░─┤M├─────────\n",
              "        └───┘ ░ └╥┘┌─┐      \n",
              "   q_1: ──────░──╫─┤M├──────\n",
              "        ┌───┐ ░  ║ └╥┘┌─┐   \n",
              "   q_2: ┤ X ├─░──╫──╫─┤M├───\n",
              "        └───┘ ░  ║  ║ └╥┘┌─┐\n",
              "   q_3: ──────░──╫──╫──╫─┤M├\n",
              "              ░  ║  ║  ║ └╥┘\n",
              "meas: 4/═════════╩══╩══╩══╩═\n",
              "                 0  1  2  3 "
            ],
            "text/html": [
              "<pre style=\"word-wrap: normal;white-space: pre;background: #fff0;line-height: 1.1;font-family: &quot;Courier New&quot;,Courier,monospace\">        ┌───┐ ░ ┌─┐         \n",
              "   q_0: ┤ X ├─░─┤M├─────────\n",
              "        └───┘ ░ └╥┘┌─┐      \n",
              "   q_1: ──────░──╫─┤M├──────\n",
              "        ┌───┐ ░  ║ └╥┘┌─┐   \n",
              "   q_2: ┤ X ├─░──╫──╫─┤M├───\n",
              "        └───┘ ░  ║  ║ └╥┘┌─┐\n",
              "   q_3: ──────░──╫──╫──╫─┤M├\n",
              "              ░  ║  ║  ║ └╥┘\n",
              "meas: 4/═════════╩══╩══╩══╩═\n",
              "                 0  1  2  3 </pre>"
            ]
          },
          "metadata": {}
        },
        {
          "output_type": "stream",
          "name": "stdout",
          "text": [
            "({'0101': 990, '0111': 8, '1101': 9, '0001': 10, '0100': 6, '0000': 1}, PrimitiveResult([SamplerPubResult(data=DataBin(meas=BitArray(<shape=(), num_shots=1024, num_bits=4>)), metadata={'shots': 1024, 'circuit_metadata': {}})], metadata={'version': 2}))\n",
            "Contagens: {'0101': 990, '0111': 8, '1101': 9, '0001': 10, '0100': 6, '0000': 1}\n"
          ]
        },
        {
          "output_type": "execute_result",
          "data": {
            "text/plain": [
              "<Figure size 640x480 with 1 Axes>"
            ],
            "image/png": "[encoded data removed]"
          },
          "metadata": {},
          "execution_count": 49
        }
      ]
    },
    {
      "cell_type": "code",
      "source": [
        "'''\n",
        "TESTE do método 'operador_projecao'\n",
        "\n",
        "Racional do teste:\n",
        "\n",
        "O método 'operador_projecao' constrói o circuito que recebe um número inteiro 'z' e\n",
        " constrói o operador projeção no correspondente estado da base computacional: '|z><z|'.\n",
        " Portanto, a medida na base computacional de um ensamble de circuitos preparados\n",
        " num estado qualquer deve retornar o estado |z> com a probabilidade correspondente.\n",
        " Em particular, preparando o circuito numa superposição homogênea de estados da\n",
        " base computacional deve retornar todos os estados da base computacional com a\n",
        " mesma probabilidade e a média da projeção igual a 1/num_qubits^2.\n",
        "'''\n",
        "\n",
        "num_qubits = 2\n",
        "z = 3\n",
        "\n",
        "print(f\"EXPERIMENTO: Medida da projeção |{z}><{z}| no estado |{z}>\")\n",
        "\n",
        "bits = binario(z, num_qubits)\n",
        "print(f\"Bits do número {z}: {bits}\")\n",
        "\n",
        "# Preparação do estado |z>\n",
        "qc = circuito_estadoBase(z,num_qubits)\n",
        "print(f\"Circuito que prepara o estado |{z}>:\")\n",
        "display(qc.draw())\n",
        "\n",
        "# Projeção no estado |z> e medida\n",
        "\n",
        "proj = circuito_projecao(bits, num_qubits)\n",
        "print(f\"Projeção |{z}><{z}|: {proj}\")\n",
        "\n",
        "valor_esperado = qiskit_estimator(qc, proj)\n",
        "print(f\"Valor esperado da projeção |{z}><{z}| no estado |{z}>: Expectativa: {1}. Medida: {valor_esperado}\")\n",
        "\n",
        "\n",
        "# Preparação de um estado |w> diferente de |z>\n",
        "print(f\"EXPERIMENTO: Medida da projeção |{z}><{z}| no estado |{w}>\")\n",
        "w = 1\n",
        "bits2 = binario(w, num_qubits)\n",
        "print(f\"Bits do número {w}: {bits2}\")\n",
        "\n",
        "qc_w= circuito_estadoBase(w,num_qubits)\n",
        "print(f\"Circuito que prepara o estado |{w}>:\")\n",
        "display(qc_w.draw())\n",
        "\n",
        "valor_esperado = qiskit_estimator(qc_w, proj)\n",
        "print(f\"Valor esperado da projeção |{z}><{z}| no estado |{w}>:  Expectativa: {0}. Medição: {valor_esperado}\")\n",
        "\n",
        "\n",
        "# Preparação da superposição uniforme H^num_qubits|0>\n",
        "print(f\"EXPERIMENTO: Medida da projeção |{z}><{z}| no estado de superposição uniforme H^num_qubits |{0}>\")\n",
        "\n",
        "bits2 = binario(w, num_qubits)\n",
        "\n",
        "qc_s = QuantumCircuit(num_qubits)\n",
        "for k in range(num_qubits):\n",
        "    qc_s.h(k)\n",
        "print(f\"Circuito que prepara a superposição uniforme H^_num_qubits|0>:\")\n",
        "display(qc_s.draw())\n",
        "\n",
        "\n",
        "valor_esperado = qiskit_estimator(qc_s, proj)\n",
        "print(f\"Valor esperado da projeção |{z}><{z}| na superposição uniforme H^_num_qubits|0>: Expectativa: {1/2**num_qubits}. Medição: {valor_esperado}\")"
      ],
      "metadata": {
        "colab": {
          "base_uri": "https://localhost:8080/",
          "height": 478
        },
        "id": "qTbr5YWtTfjO",
        "outputId": "f2a3312c-c5f4-499d-fc43-d782181454b9"
      },
      "execution_count": null,
      "outputs": [
        {
          "output_type": "stream",
          "name": "stdout",
          "text": [
            "EXPERIMENTO: Medida da projeção |3><3| no estado |3>\n",
            "Bits do número 3: [1, 1]\n",
            "Circuito que prepara o estado |3>:\n"
          ]
        },
        {
          "output_type": "display_data",
          "data": {
            "text/plain": [
              "     ┌───┐\n",
              "q_0: ┤ X ├\n",
              "     ├───┤\n",
              "q_1: ┤ X ├\n",
              "     └───┘"
            ],
            "text/html": [
              "<pre style=\"word-wrap: normal;white-space: pre;background: #fff0;line-height: 1.1;font-family: &quot;Courier New&quot;,Courier,monospace\">     ┌───┐\n",
              "q_0: ┤ X ├\n",
              "     ├───┤\n",
              "q_1: ┤ X ├\n",
              "     └───┘</pre>"
            ]
          },
          "metadata": {}
        },
        {
          "output_type": "stream",
          "name": "stdout",
          "text": [
            "Projeção |3><3|: SparsePauliOp(['II', 'IZ', 'ZI', 'ZZ'],\n",
            "              coeffs=[ 0.25+0.j, -0.25+0.j, -0.25+0.j,  0.25+0.j])\n",
            "Valor esperado da projeção |3><3| no estado |3>: Expectativa: 1. Medida: 0.9404296875\n",
            "EXPERIMENTO: Medida da projeção |3><3| no estado |1>\n",
            "Bits do número 1: [1, 0]\n",
            "Circuito que prepara o estado |1>:\n"
          ]
        },
        {
          "output_type": "display_data",
          "data": {
            "text/plain": [
              "     ┌───┐\n",
              "q_0: ┤ X ├\n",
              "     └───┘\n",
              "q_1: ─────\n",
              "          "
            ],
            "text/html": [
              "<pre style=\"word-wrap: normal;white-space: pre;background: #fff0;line-height: 1.1;font-family: &quot;Courier New&quot;,Courier,monospace\">     ┌───┐\n",
              "q_0: ┤ X ├\n",
              "     └───┘\n",
              "q_1: ─────\n",
              "          </pre>"
            ]
          },
          "metadata": {}
        },
        {
          "output_type": "stream",
          "name": "stdout",
          "text": [
            "Valor esperado da projeção |3><3| no estado |1>:  Expectativa: 0. Medição: 0.030517578125\n",
            "EXPERIMENTO: Medida da projeção |3><3| no estado de superposição uniforme H^num_qubits |0>\n",
            "Circuito que prepara a superposição uniforme H^_num_qubits|0>:\n"
          ]
        },
        {
          "output_type": "display_data",
          "data": {
            "text/plain": [
              "     ┌───┐\n",
              "q_0: ┤ H ├\n",
              "     ├───┤\n",
              "q_1: ┤ H ├\n",
              "     └───┘"
            ],
            "text/html": [
              "<pre style=\"word-wrap: normal;white-space: pre;background: #fff0;line-height: 1.1;font-family: &quot;Courier New&quot;,Courier,monospace\">     ┌───┐\n",
              "q_0: ┤ H ├\n",
              "     ├───┤\n",
              "q_1: ┤ H ├\n",
              "     └───┘</pre>"
            ]
          },
          "metadata": {}
        },
        {
          "output_type": "stream",
          "name": "stdout",
          "text": [
            "Valor esperado da projeção |3><3| na superposição uniforme H^_num_qubits|0>: Expectativa: 0.25. Medição: 0.251220703125\n"
          ]
        }
      ]
    },
    {
      "cell_type": "markdown",
      "source": [
        "## Teste do método 'operador_funcao'\n",
        "\n",
        "$$\n",
        "f: \\mathbb{N} \\rightarrow \\mathbb{Z},\\ f(z) = z^2.\n",
        "$$"
      ],
      "metadata": {
        "id": "9s_pzUGRtRXW"
      }
    },
    {
      "cell_type": "code",
      "source": [
        "'''\n",
        "TESTE do método 'operador_funcao'\n",
        "\n",
        "Racional do teste:\n",
        "\n",
        "O método 'operador_funcao' constrói um operador auto-adjunto para uma função real de entrada.\n",
        " Esse operador auto-adjunto é diagonal na base computacional com os autovalores\n",
        " correspondendo aos valores da função original.\n",
        " Portanto, medindo o operador num ensamble de  circuitos preparados num dos\n",
        " estados da base computacional deve resultar no valor da função original no\n",
        " número do estado preparado:\n",
        "\n",
        " < k | Hf | k > = f(k)\n",
        "'''\n",
        "\n",
        "\n",
        "num_qubits = 3\n",
        "z = 3\n",
        "\n",
        "print(f\"EXPERIMENTO: Medida do operador função Hf no estado |{z}>\")\n",
        "\n",
        "def f(z):\n",
        "    return z**3/3 - 3*z**2/2 - 6*z + 30\n",
        "\n",
        "# Plotagem\n",
        "import matplotlib.pyplot as plt\n",
        "import numpy as np\n",
        "\n",
        "# Define the range for plotting\n",
        "x = np.linspace(0, 2**num_qubits, 100)\n",
        "\n",
        "# Calculate the function values\n",
        "y = f(x)\n",
        "\n",
        "# Plot the function\n",
        "plt.plot(x, y)\n",
        "plt.xlabel(\"x\")\n",
        "plt.ylabel(\"f(x)\")\n",
        "plt.title(\"Graph of the function f(x) = x^2\")\n",
        "plt.grid(True)\n",
        "plt.show()"
      ],
      "metadata": {
        "colab": {
          "base_uri": "https://localhost:8080/",
          "height": 489
        },
        "id": "CbeQyhWJRyVu",
        "outputId": "91491383-ca2b-419e-f2b2-00049fcf481f"
      },
      "execution_count": null,
      "outputs": [
        {
          "output_type": "stream",
          "name": "stdout",
          "text": [
            "EXPERIMENTO: Medida do operador função Hf no estado |3>\n"
          ]
        },
        {
          "output_type": "display_data",
          "data": {
            "text/plain": [
              "<Figure size 640x480 with 1 Axes>"
            ],
            "image/png": "[encoded data removed]"
          },
          "metadata": {}
        }
      ]
    },
    {
      "cell_type": "code",
      "source": [
        "Hf = operador_funcao(f, num_qubits)\n",
        "print(f\"Operador da função: {Hf}\")\n",
        "\n",
        "# Média no estado |z>\n",
        "\n",
        "# Médoa na superposição uniforme H^num_qubits|0>\n",
        "\n",
        "qc = QuantumCircuit(num_qubits)\n",
        "for k in range(num_qubits):\n",
        "    qc.h(k)\n",
        "\n",
        "media = qiskit_estimator(qc, Hf, 2**(-12))\n",
        "media_esperada = sum([f(k) for k in range(2**num_qubits)])/2**num_qubits\n",
        "print(f\"Média esperada: {media_esperada}. Média medida: {media}\")"
      ],
      "metadata": {
        "colab": {
          "base_uri": "https://localhost:8080/"
        },
        "id": "JrL3JVPCtf5B",
        "outputId": "7c1e5053-46de-461b-a03d-c35058281ca7"
      },
      "execution_count": null,
      "outputs": [
        {
          "output_type": "stream",
          "name": "stdout",
          "text": [
            "Operador da função: SparsePauliOp(['III', 'IIZ', 'IZI', 'IZZ', 'ZII', 'ZIZ', 'ZZI', 'ZZZ'],\n",
            "              coeffs=[-14.58333333+0.j,  -0.41666667+0.j,  -0.33333333+0.j,   2.        +0.j,\n",
            "   3.33333333+0.j,   4.        +0.j,   8.        +0.j,  -2.        +0.j])\n",
            "Média esperada: -14.583333333333334. Média medida: -14.239827473958336\n"
          ]
        }
      ]
    },
    {
      "cell_type": "code",
      "source": [
        "'''\n",
        "Teste do método 'circuito_funcao'\n",
        "\n",
        "Racional do teste: O método constrói o circuito que prepara o estado quântico\n",
        " da função 'funcao'. Como as amplitudes de probabilidade são proporcionais aos\n",
        " valores da função, a medida de um ensamble de circuito preparados no estado da\n",
        " função deve resultar numa distribuição estatística com probabilidades\n",
        " proporcionais aos quadrados dos valores da função.\n",
        "'''\n",
        "\n",
        "qc = circuito_funcao(f, num_qubits)\n",
        "qc.measure_all()\n",
        "print(f\"Circuito que prepara o estado da função f:\")\n",
        "display(qc.draw())\n",
        "\n",
        "shots = 2**12 # Número de elementos do ensamble\n",
        "counts, resultado = qiskit_sampler(qc, shots)\n",
        "print(f\"Resultado do ensamble de medidas:\")\n",
        "resultado\n",
        "print(f\"Contagens:\")\n",
        "print(counts)\n",
        "\n",
        "# Visualização\n",
        "from qiskit.visualization import plot_histogram\n",
        "plot_histogram(counts)"
      ],
      "metadata": {
        "colab": {
          "base_uri": "https://localhost:8080/",
          "height": 1000
        },
        "id": "qNi3WOogO_14",
        "outputId": "1c2e622f-b7a1-4516-bebb-49f0a73fc790"
      },
      "execution_count": null,
      "outputs": [
        {
          "output_type": "stream",
          "name": "stdout",
          "text": [
            "Circuito que prepara o estado da função f:\n"
          ]
        },
        {
          "output_type": "stream",
          "name": "stderr",
          "text": [
            "<>:6: SyntaxWarning: invalid escape sequence '\\k'\n",
            "<>:6: SyntaxWarning: invalid escape sequence '\\k'\n",
            "/tmp/ipython-input-3795587801.py:6: SyntaxWarning: invalid escape sequence '\\k'\n",
            "  \\ket{f} = (1/\\norma{f})sum_{z = 0}^{2**n-1}f(z)\\ket{z}.\n"
          ]
        },
        {
          "output_type": "display_data",
          "data": {
            "text/plain": [
              "        »\n",
              "   q_0: »\n",
              "        »\n",
              "   q_1: »\n",
              "        »\n",
              "   q_2: »\n",
              "        »\n",
              "meas: 3/»\n",
              "        »\n",
              "«        ┌────────────────────────────────────────────────────────────────────────────────┐»\n",
              "«   q_0: ┤0                                                                               ├»\n",
              "«        │                                                                                │»\n",
              "«   q_1: ┤1 Initialize(0.57772,0.43971,0.28244,0.14443,0.064191,0.080239,0.23109,0.55525) ├»\n",
              "«        │                                                                                │»\n",
              "«   q_2: ┤2                                                                               ├»\n",
              "«        └────────────────────────────────────────────────────────────────────────────────┘»\n",
              "«meas: 3/══════════════════════════════════════════════════════════════════════════════════»\n",
              "«                                                                                          »\n",
              "«         ░ ┌─┐      \n",
              "«   q_0: ─░─┤M├──────\n",
              "«         ░ └╥┘┌─┐   \n",
              "«   q_1: ─░──╫─┤M├───\n",
              "«         ░  ║ └╥┘┌─┐\n",
              "«   q_2: ─░──╫──╫─┤M├\n",
              "«         ░  ║  ║ └╥┘\n",
              "«meas: 3/════╩══╩══╩═\n",
              "«            0  1  2 "
            ],
            "text/html": [
              "<pre style=\"word-wrap: normal;white-space: pre;background: #fff0;line-height: 1.1;font-family: &quot;Courier New&quot;,Courier,monospace\">        »\n",
              "   q_0: »\n",
              "        »\n",
              "   q_1: »\n",
              "        »\n",
              "   q_2: »\n",
              "        »\n",
              "meas: 3/»\n",
              "        »\n",
              "«        ┌────────────────────────────────────────────────────────────────────────────────┐»\n",
              "«   q_0: ┤0                                                                               ├»\n",
              "«        │                                                                                │»\n",
              "«   q_1: ┤1 Initialize(0.57772,0.43971,0.28244,0.14443,0.064191,0.080239,0.23109,0.55525) ├»\n",
              "«        │                                                                                │»\n",
              "«   q_2: ┤2                                                                               ├»\n",
              "«        └────────────────────────────────────────────────────────────────────────────────┘»\n",
              "«meas: 3/══════════════════════════════════════════════════════════════════════════════════»\n",
              "«                                                                                          »\n",
              "«         ░ ┌─┐      \n",
              "«   q_0: ─░─┤M├──────\n",
              "«         ░ └╥┘┌─┐   \n",
              "«   q_1: ─░──╫─┤M├───\n",
              "«         ░  ║ └╥┘┌─┐\n",
              "«   q_2: ─░──╫──╫─┤M├\n",
              "«         ░  ║  ║ └╥┘\n",
              "«meas: 3/════╩══╩══╩═\n",
              "«            0  1  2 </pre>"
            ]
          },
          "metadata": {}
        },
        {
          "output_type": "stream",
          "name": "stdout",
          "text": [
            "Resultado do ensamble de medidas:\n",
            "Contagens:\n",
            "{'111': 1227, '000': 1307, '010': 320, '110': 258, '001': 735, '011': 131, '101': 70, '100': 48}\n"
          ]
        },
        {
          "output_type": "execute_result",
          "data": {
            "text/plain": [
              "<Figure size 640x480 with 1 Axes>"
            ],
            "image/png": "[encoded data removed]"
          },
          "metadata": {},
          "execution_count": 34
        }
      ]
    },
    {
      "cell_type": "code",
      "source": [
        "probabilidades = {key: counts[key]/shots for key in counts.keys()}\n",
        "print(\"Probabilidades:\")\n",
        "print(probabilidades)\n",
        "print(\"Gráfico dos valores da função proporcionais:\")\n",
        "plot_histogram(probabilidades)"
      ],
      "metadata": {
        "colab": {
          "base_uri": "https://localhost:8080/",
          "height": 559
        },
        "id": "n6wYU3CkR4P4",
        "outputId": "a071f2d5-18f6-40e5-99ad-d4847eb7dcc4"
      },
      "execution_count": null,
      "outputs": [
        {
          "output_type": "stream",
          "name": "stdout",
          "text": [
            "Probabilidades:\n",
            "{'111': 0.299560546875, '000': 0.319091796875, '010': 0.078125, '110': 0.06298828125, '001': 0.179443359375, '011': 0.031982421875, '101': 0.01708984375, '100': 0.01171875}\n",
            "Gráfico dos valores da função proporcionais:\n"
          ]
        },
        {
          "output_type": "execute_result",
          "data": {
            "text/plain": [
              "<Figure size 640x480 with 1 Axes>"
            ],
            "image/png": "[encoded data removed]"
          },
          "metadata": {},
          "execution_count": 36
        }
      ]
    },
    {
      "cell_type": "code",
      "source": [
        "# Normalização, a partir do conhecimento do valor da função em um ponto\n",
        "\n",
        "coef = f(0)/probabilidades['000']\n",
        "print(f\"Coeficiente de normalização: {coef}\")\n",
        "funcao_valores = {key: coef*(np.sqrt(counts[key]/shots)) for key in counts.keys()}\n",
        "print(\"Valores da função normalizados:\")\n",
        "print(funcao_valores)\n",
        "print(\"Gráfico dos valores da função normalizados:\")\n",
        "plot_histogram(funcao_valores)"
      ],
      "metadata": {
        "colab": {
          "base_uri": "https://localhost:8080/",
          "height": 576
        },
        "id": "hRpcbKp2TInr",
        "outputId": "c7a4f1d8-2c12-43ba-b32f-32534cc812a1"
      },
      "execution_count": null,
      "outputs": [
        {
          "output_type": "stream",
          "name": "stdout",
          "text": [
            "Coeficiente de normalização: 94.01683244070391\n",
            "Valores da função normalizados:\n",
            "{'111': np.float64(51.45740992383019), '000': np.float64(53.10842657451939), '010': np.float64(26.278503545827675), '110': np.float64(23.595842797307807), '001': np.float64(39.82624037722088), '011': np.float64(16.813622366594053), '101': np.float64(12.290644613201417), '100': np.float64(10.177620659624314)}\n",
            "Gráfico dos valores da função normalizados:\n"
          ]
        },
        {
          "output_type": "execute_result",
          "data": {
            "text/plain": [
              "<Figure size 640x480 with 1 Axes>"
            ],
            "image/png": "[encoded data removed]"
          },
          "metadata": {},
          "execution_count": 37
        }
      ]
    },
    {
      "cell_type": "code",
      "source": [
        "# Use matplotlib to plot the bar graph of the dictionary\n",
        "plt.bar(funcao_valores.keys(), funcao_valores.values())\n",
        "plt.xlabel(\"Basis State\")\n",
        "plt.ylabel(\"Normalized Function Value\")\n",
        "plt.title(\"Normalized Function Values per Basis State\")\n",
        "plt.show()"
      ],
      "metadata": {
        "colab": {
          "base_uri": "https://localhost:8080/",
          "height": 472
        },
        "id": "Yx6HhG1EUrUV",
        "outputId": "006ee271-019f-45c1-ddb6-f90bd42640d8"
      },
      "execution_count": null,
      "outputs": [
        {
          "output_type": "display_data",
          "data": {
            "text/plain": [
              "<Figure size 640x480 with 1 Axes>"
            ],
            "image/png": "[encoded data removed]"
          },
          "metadata": {}
        }
      ]
    },
    {
      "cell_type": "code",
      "source": [
        "# Sort the keys of the dictionary\n",
        "sorted_keys = sorted(funcao_valores.keys())\n",
        "\n",
        "# Get the values in the sorted order\n",
        "sorted_values = [funcao_valores[key] for key in sorted_keys]\n",
        "\n",
        "# Use matplotlib to plot the bar graph with sorted keys\n",
        "plt.bar(sorted_keys, sorted_values)\n",
        "plt.xlabel(\"Basis State\")\n",
        "plt.ylabel(\"Normalized Function Value\")\n",
        "plt.title(\"Normalized Function Values per Basis State (Sorted)\")\n",
        "plt.show()"
      ],
      "metadata": {
        "colab": {
          "base_uri": "https://localhost:8080/",
          "height": 472
        },
        "id": "fe2FzbxYVRVc",
        "outputId": "3fa34d41-121b-4168-ddc4-f08f1a74415e"
      },
      "execution_count": null,
      "outputs": [
        {
          "output_type": "display_data",
          "data": {
            "text/plain": [
              "<Figure size 640x480 with 1 Axes>"
            ],
            "image/png": "[encoded data removed]"
          },
          "metadata": {}
        }
      ]
    }
  ],
  "metadata": {
    "colab": {
      "provenance": [],
      "collapsed_sections": [
        "zLtteeCl4uTM"
      ],
      "authorship_tag": "ABX9TyP1zeQ+LnKj3I2EnQf8guc+",
      "include_colab_link": true
    },
    "kernelspec": {
      "display_name": "Python 3",
      "name": "python3"
    },
    "language_info": {
      "name": "python"
    }
  },
  "nbformat": 4,
  "nbformat_minor": 0
}