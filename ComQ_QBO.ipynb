{
  "nbformat": 4,
  "nbformat_minor": 0,
  "metadata": {
    "colab": {
      "provenance": [],
      "collapsed_sections": [
        "zLtteeCl4uTM"
      ],
      "authorship_tag": "ABX9TyOSyDPj7bmIctzEa0Udf8GT",
      "include_colab_link": true
    },
    "kernelspec": {
      "name": "python3",
      "display_name": "Python 3"
    },
    "language_info": {
      "name": "python"
    }
  },
  "cells": [
    {
      "cell_type": "markdown",
      "metadata": {
        "id": "view-in-github",
        "colab_type": "text"
      },
      "source": [
        "<a href=\"https://colab.research.google.com/github/LucioFassarella/ComQ/blob/main/ComQ_QBO.ipynb\" target=\"_parent\"><img src=\"https://colab.research.google.com/assets/colab-badge.svg\" alt=\"Open In Colab\"/></a>"
      ]
    },
    {
      "cell_type": "markdown",
      "source": [
        "# Otimização Combinatória\n",
        "*   QBO: Problemas de otimização combinatória (com eventuais restrições)\n",
        "*   QUBO: Problemas de otimização combinatória sem restrições\n",
        "\n",
        "Resolução pela estratégia QAOA"
      ],
      "metadata": {
        "id": "-nJ-9DPj4oo7"
      }
    },
    {
      "cell_type": "markdown",
      "source": [
        "## Pacotes e Métodos"
      ],
      "metadata": {
        "id": "zLtteeCl4uTM"
      }
    },
    {
      "cell_type": "code",
      "source": [
        "'''\n",
        "Instalação do Qiskit e pacotes de visualização\n",
        "'''\n",
        "!pip install qiskit -U\n",
        "!pip install qiskit_aer\n",
        "!pip install qiskit-ibm-runtime\n",
        "\n",
        "import qiskit\n",
        "qiskit.__version__\n",
        "\n",
        "!pip install matplotlib\n",
        "!pip install pylatexenc"
      ],
      "metadata": {
        "colab": {
          "base_uri": "https://localhost:8080/"
        },
        "collapsed": true,
        "id": "i95RDVGfG1JY",
        "outputId": "57a24a1a-a24a-4f19-a664-41bcee8943af"
      },
      "execution_count": null,
      "outputs": [
        {
          "output_type": "stream",
          "name": "stdout",
          "text": [
            "Collecting qiskit\n",
            "  Downloading qiskit-2.1.2-cp39-abi3-manylinux_2_17_x86_64.manylinux2014_x86_64.whl.metadata (12 kB)\n",
            "Collecting rustworkx>=0.15.0 (from qiskit)\n",
            "  Downloading rustworkx-0.17.1-cp39-abi3-manylinux_2_17_x86_64.manylinux2014_x86_64.whl.metadata (10 kB)\n",
            "Requirement already satisfied: numpy<3,>=1.17 in /usr/local/lib/python3.12/dist-packages (from qiskit) (2.0.2)\n",
            "Requirement already satisfied: scipy>=1.5 in /usr/local/lib/python3.12/dist-packages (from qiskit) (1.16.1)\n",
            "Requirement already satisfied: dill>=0.3 in /usr/local/lib/python3.12/dist-packages (from qiskit) (0.3.8)\n",
            "Collecting stevedore>=3.0.0 (from qiskit)\n",
            "  Downloading stevedore-5.5.0-py3-none-any.whl.metadata (2.2 kB)\n",
            "Requirement already satisfied: typing-extensions in /usr/local/lib/python3.12/dist-packages (from qiskit) (4.15.0)\n",
            "Downloading qiskit-2.1.2-cp39-abi3-manylinux_2_17_x86_64.manylinux2014_x86_64.whl (7.4 MB)\n",
            "\u001b[2K   \u001b[90m━━━━━━━━━━━━━━━━━━━━━━━━━━━━━━━━━━━━━━━━\u001b[0m \u001b[32m7.4/7.4 MB\u001b[0m \u001b[31m37.7 MB/s\u001b[0m eta \u001b[36m0:00:00\u001b[0m\n",
            "\u001b[?25hDownloading rustworkx-0.17.1-cp39-abi3-manylinux_2_17_x86_64.manylinux2014_x86_64.whl (2.2 MB)\n",
            "\u001b[2K   \u001b[90m━━━━━━━━━━━━━━━━━━━━━━━━━━━━━━━━━━━━━━━━\u001b[0m \u001b[32m2.2/2.2 MB\u001b[0m \u001b[31m40.2 MB/s\u001b[0m eta \u001b[36m0:00:00\u001b[0m\n",
            "\u001b[?25hDownloading stevedore-5.5.0-py3-none-any.whl (49 kB)\n",
            "\u001b[2K   \u001b[90m━━━━━━━━━━━━━━━━━━━━━━━━━━━━━━━━━━━━━━━━\u001b[0m \u001b[32m49.5/49.5 kB\u001b[0m \u001b[31m2.7 MB/s\u001b[0m eta \u001b[36m0:00:00\u001b[0m\n",
            "\u001b[?25hInstalling collected packages: stevedore, rustworkx, qiskit\n",
            "Successfully installed qiskit-2.1.2 rustworkx-0.17.1 stevedore-5.5.0\n",
            "Collecting qiskit_aer\n",
            "  Downloading qiskit_aer-0.17.1-cp312-cp312-manylinux_2_17_x86_64.manylinux2014_x86_64.whl.metadata (8.3 kB)\n",
            "Requirement already satisfied: qiskit>=1.1.0 in /usr/local/lib/python3.12/dist-packages (from qiskit_aer) (2.1.2)\n",
            "Requirement already satisfied: numpy>=1.16.3 in /usr/local/lib/python3.12/dist-packages (from qiskit_aer) (2.0.2)\n",
            "Requirement already satisfied: scipy>=1.0 in /usr/local/lib/python3.12/dist-packages (from qiskit_aer) (1.16.1)\n",
            "Requirement already satisfied: psutil>=5 in /usr/local/lib/python3.12/dist-packages (from qiskit_aer) (5.9.5)\n",
            "Requirement already satisfied: python-dateutil>=2.8.0 in /usr/local/lib/python3.12/dist-packages (from qiskit_aer) (2.9.0.post0)\n",
            "Requirement already satisfied: six>=1.5 in /usr/local/lib/python3.12/dist-packages (from python-dateutil>=2.8.0->qiskit_aer) (1.17.0)\n",
            "Requirement already satisfied: rustworkx>=0.15.0 in /usr/local/lib/python3.12/dist-packages (from qiskit>=1.1.0->qiskit_aer) (0.17.1)\n",
            "Requirement already satisfied: dill>=0.3 in /usr/local/lib/python3.12/dist-packages (from qiskit>=1.1.0->qiskit_aer) (0.3.8)\n",
            "Requirement already satisfied: stevedore>=3.0.0 in /usr/local/lib/python3.12/dist-packages (from qiskit>=1.1.0->qiskit_aer) (5.5.0)\n",
            "Requirement already satisfied: typing-extensions in /usr/local/lib/python3.12/dist-packages (from qiskit>=1.1.0->qiskit_aer) (4.15.0)\n",
            "Downloading qiskit_aer-0.17.1-cp312-cp312-manylinux_2_17_x86_64.manylinux2014_x86_64.whl (12.4 MB)\n",
            "\u001b[2K   \u001b[90m━━━━━━━━━━━━━━━━━━━━━━━━━━━━━━━━━━━━━━━━\u001b[0m \u001b[32m12.4/12.4 MB\u001b[0m \u001b[31m99.0 MB/s\u001b[0m eta \u001b[36m0:00:00\u001b[0m\n",
            "\u001b[?25hInstalling collected packages: qiskit_aer\n",
            "Successfully installed qiskit_aer-0.17.1\n",
            "Collecting qiskit-ibm-runtime\n",
            "  Downloading qiskit_ibm_runtime-0.41.1-py3-none-any.whl.metadata (21 kB)\n",
            "Requirement already satisfied: requests>=2.19 in /usr/local/lib/python3.12/dist-packages (from qiskit-ibm-runtime) (2.32.4)\n",
            "Collecting requests-ntlm>=1.1.0 (from qiskit-ibm-runtime)\n",
            "  Downloading requests_ntlm-1.3.0-py3-none-any.whl.metadata (2.4 kB)\n",
            "Requirement already satisfied: numpy>=1.13 in /usr/local/lib/python3.12/dist-packages (from qiskit-ibm-runtime) (2.0.2)\n",
            "Requirement already satisfied: urllib3>=1.21.1 in /usr/local/lib/python3.12/dist-packages (from qiskit-ibm-runtime) (2.5.0)\n",
            "Requirement already satisfied: python-dateutil>=2.8.0 in /usr/local/lib/python3.12/dist-packages (from qiskit-ibm-runtime) (2.9.0.post0)\n",
            "Collecting ibm-platform-services>=0.22.6 (from qiskit-ibm-runtime)\n",
            "  Downloading ibm_platform_services-0.68.2-py3-none-any.whl.metadata (9.0 kB)\n",
            "Requirement already satisfied: pydantic>=2.5.0 in /usr/local/lib/python3.12/dist-packages (from qiskit-ibm-runtime) (2.11.7)\n",
            "Requirement already satisfied: qiskit>=1.4.1 in /usr/local/lib/python3.12/dist-packages (from qiskit-ibm-runtime) (2.1.2)\n",
            "Requirement already satisfied: packaging in /usr/local/lib/python3.12/dist-packages (from qiskit-ibm-runtime) (25.0)\n",
            "Collecting ibm_cloud_sdk_core<4.0.0,>=3.24.2 (from ibm-platform-services>=0.22.6->qiskit-ibm-runtime)\n",
            "  Downloading ibm_cloud_sdk_core-3.24.2-py3-none-any.whl.metadata (8.7 kB)\n",
            "Requirement already satisfied: annotated-types>=0.6.0 in /usr/local/lib/python3.12/dist-packages (from pydantic>=2.5.0->qiskit-ibm-runtime) (0.7.0)\n",
            "Requirement already satisfied: pydantic-core==2.33.2 in /usr/local/lib/python3.12/dist-packages (from pydantic>=2.5.0->qiskit-ibm-runtime) (2.33.2)\n",
            "Requirement already satisfied: typing-extensions>=4.12.2 in /usr/local/lib/python3.12/dist-packages (from pydantic>=2.5.0->qiskit-ibm-runtime) (4.15.0)\n",
            "Requirement already satisfied: typing-inspection>=0.4.0 in /usr/local/lib/python3.12/dist-packages (from pydantic>=2.5.0->qiskit-ibm-runtime) (0.4.1)\n",
            "Requirement already satisfied: six>=1.5 in /usr/local/lib/python3.12/dist-packages (from python-dateutil>=2.8.0->qiskit-ibm-runtime) (1.17.0)\n",
            "Requirement already satisfied: rustworkx>=0.15.0 in /usr/local/lib/python3.12/dist-packages (from qiskit>=1.4.1->qiskit-ibm-runtime) (0.17.1)\n",
            "Requirement already satisfied: scipy>=1.5 in /usr/local/lib/python3.12/dist-packages (from qiskit>=1.4.1->qiskit-ibm-runtime) (1.16.1)\n",
            "Requirement already satisfied: dill>=0.3 in /usr/local/lib/python3.12/dist-packages (from qiskit>=1.4.1->qiskit-ibm-runtime) (0.3.8)\n",
            "Requirement already satisfied: stevedore>=3.0.0 in /usr/local/lib/python3.12/dist-packages (from qiskit>=1.4.1->qiskit-ibm-runtime) (5.5.0)\n",
            "Requirement already satisfied: charset_normalizer<4,>=2 in /usr/local/lib/python3.12/dist-packages (from requests>=2.19->qiskit-ibm-runtime) (3.4.3)\n",
            "Requirement already satisfied: idna<4,>=2.5 in /usr/local/lib/python3.12/dist-packages (from requests>=2.19->qiskit-ibm-runtime) (3.10)\n",
            "Requirement already satisfied: certifi>=2017.4.17 in /usr/local/lib/python3.12/dist-packages (from requests>=2.19->qiskit-ibm-runtime) (2025.8.3)\n",
            "Requirement already satisfied: cryptography>=1.3 in /usr/local/lib/python3.12/dist-packages (from requests-ntlm>=1.1.0->qiskit-ibm-runtime) (43.0.3)\n",
            "Collecting pyspnego>=0.4.0 (from requests-ntlm>=1.1.0->qiskit-ibm-runtime)\n",
            "  Downloading pyspnego-0.12.0-py3-none-any.whl.metadata (4.1 kB)\n",
            "Requirement already satisfied: cffi>=1.12 in /usr/local/lib/python3.12/dist-packages (from cryptography>=1.3->requests-ntlm>=1.1.0->qiskit-ibm-runtime) (1.17.1)\n",
            "Requirement already satisfied: PyJWT<3.0.0,>=2.10.1 in /usr/local/lib/python3.12/dist-packages (from ibm_cloud_sdk_core<4.0.0,>=3.24.2->ibm-platform-services>=0.22.6->qiskit-ibm-runtime) (2.10.1)\n",
            "Requirement already satisfied: pycparser in /usr/local/lib/python3.12/dist-packages (from cffi>=1.12->cryptography>=1.3->requests-ntlm>=1.1.0->qiskit-ibm-runtime) (2.22)\n",
            "Downloading qiskit_ibm_runtime-0.41.1-py3-none-any.whl (1.4 MB)\n",
            "\u001b[2K   \u001b[90m━━━━━━━━━━━━━━━━━━━━━━━━━━━━━━━━━━━━━━━━\u001b[0m \u001b[32m1.4/1.4 MB\u001b[0m \u001b[31m19.7 MB/s\u001b[0m eta \u001b[36m0:00:00\u001b[0m\n",
            "\u001b[?25hDownloading ibm_platform_services-0.68.2-py3-none-any.whl (366 kB)\n",
            "\u001b[2K   \u001b[90m━━━━━━━━━━━━━━━━━━━━━━━━━━━━━━━━━━━━━━━━\u001b[0m \u001b[32m366.8/366.8 kB\u001b[0m \u001b[31m27.4 MB/s\u001b[0m eta \u001b[36m0:00:00\u001b[0m\n",
            "\u001b[?25hDownloading requests_ntlm-1.3.0-py3-none-any.whl (6.6 kB)\n",
            "Downloading ibm_cloud_sdk_core-3.24.2-py3-none-any.whl (75 kB)\n",
            "\u001b[2K   \u001b[90m━━━━━━━━━━━━━━━━━━━━━━━━━━━━━━━━━━━━━━━━\u001b[0m \u001b[32m75.8/75.8 kB\u001b[0m \u001b[31m6.5 MB/s\u001b[0m eta \u001b[36m0:00:00\u001b[0m\n",
            "\u001b[?25hDownloading pyspnego-0.12.0-py3-none-any.whl (130 kB)\n",
            "\u001b[2K   \u001b[90m━━━━━━━━━━━━━━━━━━━━━━━━━━━━━━━━━━━━━━━━\u001b[0m \u001b[32m130.2/130.2 kB\u001b[0m \u001b[31m10.6 MB/s\u001b[0m eta \u001b[36m0:00:00\u001b[0m\n",
            "\u001b[?25hInstalling collected packages: ibm_cloud_sdk_core, pyspnego, ibm-platform-services, requests-ntlm, qiskit-ibm-runtime\n",
            "Successfully installed ibm-platform-services-0.68.2 ibm_cloud_sdk_core-3.24.2 pyspnego-0.12.0 qiskit-ibm-runtime-0.41.1 requests-ntlm-1.3.0\n",
            "Requirement already satisfied: matplotlib in /usr/local/lib/python3.12/dist-packages (3.10.0)\n",
            "Requirement already satisfied: contourpy>=1.0.1 in /usr/local/lib/python3.12/dist-packages (from matplotlib) (1.3.3)\n",
            "Requirement already satisfied: cycler>=0.10 in /usr/local/lib/python3.12/dist-packages (from matplotlib) (0.12.1)\n",
            "Requirement already satisfied: fonttools>=4.22.0 in /usr/local/lib/python3.12/dist-packages (from matplotlib) (4.59.1)\n",
            "Requirement already satisfied: kiwisolver>=1.3.1 in /usr/local/lib/python3.12/dist-packages (from matplotlib) (1.4.9)\n",
            "Requirement already satisfied: numpy>=1.23 in /usr/local/lib/python3.12/dist-packages (from matplotlib) (2.0.2)\n",
            "Requirement already satisfied: packaging>=20.0 in /usr/local/lib/python3.12/dist-packages (from matplotlib) (25.0)\n",
            "Requirement already satisfied: pillow>=8 in /usr/local/lib/python3.12/dist-packages (from matplotlib) (11.3.0)\n",
            "Requirement already satisfied: pyparsing>=2.3.1 in /usr/local/lib/python3.12/dist-packages (from matplotlib) (3.2.3)\n",
            "Requirement already satisfied: python-dateutil>=2.7 in /usr/local/lib/python3.12/dist-packages (from matplotlib) (2.9.0.post0)\n",
            "Requirement already satisfied: six>=1.5 in /usr/local/lib/python3.12/dist-packages (from python-dateutil>=2.7->matplotlib) (1.17.0)\n",
            "Collecting pylatexenc\n",
            "  Downloading pylatexenc-2.10.tar.gz (162 kB)\n",
            "\u001b[2K     \u001b[90m━━━━━━━━━━━━━━━━━━━━━━━━━━━━━━━━━━━━━━━\u001b[0m \u001b[32m162.6/162.6 kB\u001b[0m \u001b[31m3.2 MB/s\u001b[0m eta \u001b[36m0:00:00\u001b[0m\n",
            "\u001b[?25h  Preparing metadata (setup.py) ... \u001b[?25l\u001b[?25hdone\n",
            "Building wheels for collected packages: pylatexenc\n",
            "  Building wheel for pylatexenc (setup.py) ... \u001b[?25l\u001b[?25hdone\n",
            "  Created wheel for pylatexenc: filename=pylatexenc-2.10-py3-none-any.whl size=136817 sha256=3d0f2d0cb8efdcfbe51d02c250adece1bdbb4dcd08d408e674ee8ccbda2b4835\n",
            "  Stored in directory: /root/.cache/pip/wheels/06/3e/78/fa1588c1ae991bbfd814af2bcac6cef7a178beee1939180d46\n",
            "Successfully built pylatexenc\n",
            "Installing collected packages: pylatexenc\n",
            "Successfully installed pylatexenc-2.10\n"
          ]
        }
      ]
    },
    {
      "cell_type": "code",
      "source": [
        "'''\n",
        "Pacotes e Métodos\n",
        "'''\n",
        "\n",
        "# NumPy e SciPy\n",
        "import numpy as np\n",
        "import scipy as sp\n",
        "\n",
        "# Minimizador do SciPy\n",
        "from scipy.optimize import minimize\n",
        "\n",
        "# Métodos do Qiskit\n",
        "from qiskit import QuantumCircuit, ClassicalRegister, QuantumRegister, transpile\n",
        "from qiskit.quantum_info import SparsePauliOp, Statevector, Operator\n",
        "from qiskit.visualization import plot_histogram, array_to_latex, plot_state_city\n",
        "from qiskit.transpiler.preset_passmanagers import generate_preset_pass_manager\n",
        "#from qiskit.circuit.library import QAOAAnsatz\n",
        "\n",
        "# Estimadores do Qiskit\n",
        "from qiskit_aer.primitives import Estimator # <-- Estimator para simulação clássica\n",
        "from qiskit_ibm_runtime import EstimatorV2 as Estimator # <-- Estimator para computação quântica\n",
        "from qiskit_ibm_runtime import SamplerV2 as Sampler # <-- Estimator para computação quântica\n",
        "\n",
        "# Qiskit Runtime\n",
        "#from qiskit_ibm_runtime import QiskitRuntimeService, Session\n",
        "\n",
        "import time"
      ],
      "metadata": {
        "id": "ivgHfUpsrOvq"
      },
      "execution_count": null,
      "outputs": []
    },
    {
      "cell_type": "code",
      "source": [
        "'''\n",
        "Métodos para execução da estratégia QAOA\n",
        "'''\n",
        "\n",
        "# Conecção com a IBM\n",
        "\n",
        "token_privado = \"..." # <-- Inserir token privado na IBM\n",
        "instance_do_projeto = \"crn:v1:bluemix:public:quantum-computing:us-east:a/...::\" # <-- Inserir instance do projeto\n",
        "\n",
        "from qiskit_ibm_runtime import QiskitRuntimeService\n",
        "service = QiskitRuntimeService(\n",
        "    channel=\"ibm_cloud\",\n",
        "    token = token_privado,\n",
        "    instance = instance_do_projeto\n",
        "    )\n",
        "\n",
        "## Backend fake\n",
        "from qiskit_ibm_runtime.fake_provider import FakeBrisbane\n",
        "backend = FakeBrisbane() # FakeBrisbane(): 127 qubits. Mais fake backends: 'https://quantum.cloud.ibm.com/docs/en/api/qiskit-ibm-runtime/fake-provider'\n",
        "\n",
        "# Importação do Estimator\n",
        "from qiskit_aer.primitives import EstimatorV2\n",
        "Estimator = EstimatorV2\n",
        "\n",
        "# Importação do Sampler\n",
        "## Simulação local\n",
        "from qiskit.primitives import StatevectorSampler # For local simulation\n",
        "sampler = StatevectorSampler()\n",
        "## Simulação na IBM:\n",
        "#from qiskit_ibm_runtime import SamplerV2\n",
        "# sampler = SamplerV2(mode = backend)\n",
        "\n",
        "# Transpilador\n",
        "\n",
        "from qiskit.transpiler.preset_passmanagers import generate_preset_pass_manager\n",
        "pass_manager = generate_preset_pass_manager(optimization_level=1, backend=backend)"
      ],
      "metadata": {
        "id": "u3EJV1QqzLHC"
      },
      "execution_count": null,
      "outputs": []
    },
    {
      "cell_type": "markdown",
      "source": [
        "# Métodos"
      ],
      "metadata": {
        "id": "q5CmO4j-43SH"
      }
    },
    {
      "cell_type": "code",
      "source": [
        "def binario(z = 'int', num_bits = 'int'):\n",
        "    '''\n",
        "    Método que recebe um número inteiro e retorna a lista dos coeficientes de sua\n",
        "     representação binária em ordem anti-lexicográfica (da direita para a esquerda).\n",
        "\n",
        "    Entrada:\n",
        "        z (int): número inteiro\n",
        "\n",
        "    Saída:\n",
        "        bits (list): lista dos coeficientes de sua representação binária\n",
        "\n",
        "    '''\n",
        "\n",
        "    string = bin(z)[2:].zfill(num_bits)\n",
        "    lista = [int(bit) for bit in list(string)]\n",
        "    lista.reverse()\n",
        "    return lista"
      ],
      "metadata": {
        "id": "ih0OAwsFJKQH"
      },
      "execution_count": null,
      "outputs": []
    },
    {
      "cell_type": "code",
      "source": [
        "def funcao_quadratica(matriz_incidencia = list, z = list):\n",
        "    '''\n",
        "    Função que calcula o valor de uma função quadrática com variáveis inteiras,\n",
        "     dada a matriz de incidência simétrica:\n",
        "\n",
        "     f(z) = sum_i sum_j matriz_incidencia[i][j]*z[i]*z[j]\n",
        "\n",
        "    Entrada:\n",
        "        matriz_incidencia (list): matriz de incidência\n",
        "        z (list): lista de variáveis inteiras\n",
        "\n",
        "    Saída:\n",
        "        valor (float): valor da função quadrática\n",
        "    '''\n",
        "\n",
        "    # Verificação dos dados de entrada\n",
        "\n",
        "    if type(matriz_incidencia) != list:\n",
        "        return print(\"O primeiro argumento deve ser uma lista com a mesma dimensão do segundo argumento.\")\n",
        "    if type(z) != list:\n",
        "        return print(\"O segundo argumento deve ser uma lista com mesma dimensão do primeiro argumento.\")\n",
        "    if len(matriz_incidencia) != len(z):\n",
        "        return print(\"O segundo argumento deve ser uma lista com mesma dimensão do primeiro argumento.\")\n",
        "    if len(matriz_incidencia) != len(matriz_incidencia[0]):\n",
        "        return print(\"A matriz de incidência deve ser quadrada.\")\n",
        "\n",
        "    # Código\n",
        "\n",
        "    n = len(matriz_incidencia)\n",
        "\n",
        "    valor = 0\n",
        "\n",
        "    for i in range(n):\n",
        "        for j in range(n):\n",
        "            valor += matriz_incidencia[i][j]*z[i]*z[j]\n",
        "\n",
        "    return valor"
      ],
      "metadata": {
        "id": "umZUPwLrsTNu"
      },
      "execution_count": null,
      "outputs": []
    },
    {
      "cell_type": "code",
      "source": [
        "def maximiza_quadratica(matriz_incidencia = 'list'):\n",
        "    '''\n",
        "    '''\n",
        "\n",
        "    n = len(matriz_incidencia) # dimensão do problema\n",
        "\n",
        "    max_valor = -np.inf\n",
        "    max_pontos = []\n",
        "    for z in range(2**n):\n",
        "        bits = binario(z, n)\n",
        "        valor = funcao_quadratica(matriz_incidencia, bits)\n",
        "        if valor > max_valor:\n",
        "            max_valor = valor\n",
        "            max_pontos = [z]\n",
        "        elif valor == max_valor:\n",
        "            max_pontos.append(z)\n",
        "\n",
        "    return max_valor, max_pontos"
      ],
      "metadata": {
        "id": "TZ5p7raEzUH0"
      },
      "execution_count": null,
      "outputs": []
    },
    {
      "cell_type": "code",
      "source": [
        "def operador_projecao(bits = list, num_qubits = 'int'):\n",
        "    '''\n",
        "    Método que recebe uma lista binária e retorna uma lista com formato do argumento\n",
        "     do método \"from_sparse_list\" do método SparsePauliOp do Qiskit,\n",
        "     com a diferença de que os elementos do resultado são lists e não tuples.\n",
        "    Exemplo de saída (com apenas dois termos):\n",
        "     [(\"I\",[0],.25), (\"Z\", [0], .25), (\"Z\", [1], .25), (\"ZZ\", [0,1], .25)]\n",
        "\n",
        "    Entrada:\n",
        "        bits: lista binária\n",
        "        num_qubits: número total de qubits\n",
        "\n",
        "    Saída:\n",
        "        lista com formato do argumento do método \"from_sparse_list\" do método SparsePauliOp do Qiskit.\n",
        "\n",
        "    Métodos requeridos:\n",
        "        from qiskit import QuantumCircuit\n",
        "        from qiskit.quantum_info import SparsePauliOp\n",
        "\n",
        "    '''\n",
        "\n",
        "    # Validação da entrada\n",
        "\n",
        "    if type(bits) != list:\n",
        "        return print(\"O argumento 'z' deve ser uma lista binária (cujos termos são inteiros '0' ou '1').\")\n",
        "\n",
        "    for bit in bits:\n",
        "        if bit != 0 and bit != 1:\n",
        "            return print(\"O argumento 'z' deve ser uma lista binária (cujos termos são inteiros '0' ou '1').\")\n",
        "\n",
        "    # Parte principal\n",
        "\n",
        "    n = len(bits)\n",
        "\n",
        "    if n == 1:\n",
        "        proj = SparsePauliOp([\"I\", \"Z\"], [0.5, ((-1)**(bits[0]))*0.5])\n",
        "\n",
        "        # Completamento do tamanho\n",
        "        if num_qubits > 1:\n",
        "            proj = proj.expand(SparsePauliOp(\"I\"*(num_qubits-1), [1]))\n",
        "        return proj\n",
        "\n",
        "    else:\n",
        "        proj = SparsePauliOp([\"I\", \"Z\"], [0.5, ((-1)**bits[n-1])*0.5])\n",
        "        pauli = operador_projecao(bits[0:n-1], n-1).expand(proj)\n",
        "\n",
        "        # Completamento do tamanho\n",
        "        if num_qubits > n:\n",
        "             pauli = pauli.expand(SparsePauliOp(\"I\"*(num_qubits-n), [1]))\n",
        "\n",
        "        pauli = pauli.simplify()\n",
        "        return pauli"
      ],
      "metadata": {
        "id": "M7AS2nf3itLX"
      },
      "execution_count": null,
      "outputs": []
    },
    {
      "cell_type": "code",
      "source": [
        "def operador_funcao(funcao = 'function', num_qubits = 'int'):\n",
        "    '''\n",
        "\n",
        "    Método que constrói o operador de uma função complexa com variáveis inteiras\n",
        "\n",
        "    Entradas:\n",
        "        num_qubits  (int): número de qubits do circuito\n",
        "        funcao (function): funcao real com variável inteira\n",
        "\n",
        "    Saída:\n",
        "        H (SparsePauliOp): operador\n",
        "\n",
        "    Métodos requeridos:\n",
        "        from qiskit import QuantumCircuit\n",
        "        from qiskit.quantum_info import SparsePauliOp\n",
        "\n",
        "    '''\n",
        "\n",
        "    projecoes_lista = []\n",
        "\n",
        "    for z in range(2**num_qubits):\n",
        "        bits = binario(z, num_qubits)\n",
        "        proj = operador_projecao(bits, num_qubits)\n",
        "        coeficiente = SparsePauliOp(\"I\"*num_qubits, funcao(z))\n",
        "        proj_funcao = coeficiente.compose(proj)\n",
        "        projecoes_lista.append(proj_funcao)\n",
        "\n",
        "    H = sum(projecoes_lista).simplify()\n",
        "\n",
        "    return H"
      ],
      "metadata": {
        "id": "L2MVyIUKiw-m"
      },
      "execution_count": null,
      "outputs": []
    },
    {
      "cell_type": "code",
      "source": [
        "def funcao_ansatz(matriz_incidencia = 'list', num_qubits = 'int', parametros = 'list', p = 'int', estimator = 'qiskit_aer.primitives'):\n",
        "    '''\n",
        "    Função que retorna o corte de uma partição do grafo\n",
        "\n",
        "    Entradas:\n",
        "        matriz_incidencia (list): matriz de incidência do problema <<< len(matriz_incidencia) = dimensão do problema >>>\n",
        "        num_qubits (int)        : número de qubits do registro quântico <<< = dimensão do problema >>>\n",
        "        parametros (list)       : lista de parâmetros 'gama_vec' e 'beta_vec' combinados <<< len(parametros) = 2*p >>>\n",
        "        estimator (Estimator)   : estimador quântico\n",
        "        p (int)                 : profundidade do ansatz QAOA <<< 2*p = len(parametros) >>>\n",
        "\n",
        "    Saída:\n",
        "        valor (float): valor estimado da função no estado quântico gerado\n",
        "        pelo ansatz QAOA com os parâmetros 'parametros' de entrada.\n",
        "\n",
        "    Métodos requeridos:\n",
        "        QAOA_Ansatz\n",
        "        Estimator\n",
        "        pass_manager: Qiskit PassManager\n",
        "\n",
        "    Observações:\n",
        "        Para executar esta função, é necessário previamente definir o \"estimator\"\n",
        "        e inicializar o transpilador pelo comando\n",
        "        \"pass_manager = generate_preset_pass_manager(optimization_level=1, backend=backend)\"\n",
        "    '''\n",
        "\n",
        "    # Construção do circuito QAOA\n",
        "    gama_vec = list(parametros[:p])\n",
        "    beta_vec = list(parametros[p:])\n",
        "    QAOA = QAOA_Ansatz(num_qubits, matriz_incidencia, p, gama_vec, beta_vec)\n",
        "\n",
        "    # Função objetivo\n",
        "    funcao_objetivo = lambda z: funcao_quadratica(matriz_incidencia, binario(z, num_qubits))\n",
        "\n",
        "    # Cálculo da função objetivo\n",
        "    QAOA_transpilado = pass_manager.run(QAOA)\n",
        "    HC = operador_funcao(funcao_objetivo, dimensao)\n",
        "    HC_transpilado = HC.apply_layout(QAOA_transpilado.layout)\n",
        "    job = estimator.run([(QAOA_transpilado, HC_transpilado)])\n",
        "    valor = job.result()[0].data.evs\n",
        "\n",
        "    return valor"
      ],
      "metadata": {
        "id": "n9Fh-IHKdW3q"
      },
      "execution_count": null,
      "outputs": []
    },
    {
      "cell_type": "code",
      "source": [
        "def operador_separador(num_qubits = 'int', matriz_incidencia = 'list', gama = 'float'):\n",
        "    '''\n",
        "    Função que contrói o operador separador da estratégia QAOA para um grafo.\n",
        "\n",
        "    Entradas:\n",
        "        num_qubits (int)        : número de qubits\n",
        "        matriz_incidencia (list): matriz de incidência\n",
        "        gama (float)            : parâmetro real\n",
        "\n",
        "    Saída:\n",
        "        qc: circuito quântico com n qubits\n",
        "\n",
        "    Métodos requeridos:\n",
        "        qiskit.QuantumCircuit\n",
        "\n",
        "    '''\n",
        "\n",
        "    # Verificação da consistência dos dados de entrada\n",
        "\n",
        "    if type(num_qubits) != int:\n",
        "        return print(\"O primeiro argumento deve ser um inteiro\")\n",
        "    if type(matriz_incidencia) != list:\n",
        "        return print(\"O segundo argumento deve ser uma lista quadrada simétrica\")\n",
        "    if num_qubits != len(matriz_incidencia):\n",
        "        return print(\"O comprimento da lista deve ser igual ao primeiro argumento\")\n",
        "\n",
        "    # Código principal\n",
        "\n",
        "    qc = QuantumCircuit(num_qubits, name = \"H_P\")\n",
        "\n",
        "    for j in range(num_qubits):\n",
        "        for i in range(j):\n",
        "            qc.rzz(gama*matriz_incidencia[i][j],i,j)\n",
        "\n",
        "    return qc"
      ],
      "metadata": {
        "id": "mo21YLMYDFcy"
      },
      "execution_count": null,
      "outputs": []
    },
    {
      "cell_type": "code",
      "source": [
        "def operador_misturador(num_qubits = 'int', beta = 'float'):\n",
        "    '''\n",
        "    Função que contrói o operador misturador da estratégia QAOA para um grafo.\n",
        "\n",
        "    Entradas:\n",
        "        num_vertices (int): número de qubits\n",
        "        beta (float)      : parâmetro real\n",
        "\n",
        "    Saída:\n",
        "        qc: circuito quântico com n qubits\n",
        "\n",
        "    Métodos requeridos:\n",
        "        qiskit.QuantumCircuit\n",
        "\n",
        "    '''\n",
        "\n",
        "    # Verificação da consistência dos dados de entrada\n",
        "\n",
        "    if type(num_qubits) != int:\n",
        "        return print(\"O primeiro argumento deve ser um inteiro\")\n",
        "\n",
        "    # Código principal\n",
        "\n",
        "    qc = QuantumCircuit(num_qubits, name = \"H_M\")\n",
        "\n",
        "    for i in range(num_qubits):\n",
        "            qc.rx(beta,i)\n",
        "\n",
        "    return qc"
      ],
      "metadata": {
        "id": "ziA6Xq9YW2Sk"
      },
      "execution_count": null,
      "outputs": []
    },
    {
      "cell_type": "code",
      "source": [
        "def QAOA_Ansatz(num_qubits = 'int', matriz_incidencia = 'list', p = 'int', gama_vec = 'list', beta_vec = 'list'):\n",
        "    '''\n",
        "    Função que contrói o circuito quântico QAOA para um grafo.\n",
        "\n",
        "    Entradas:\n",
        "        num_vertices (int): número de qubits\n",
        "        matriz_incidencia (list): matriz característica da função quadrática\n",
        "        gama_vec (float): lista de parâmetros reais\n",
        "        beta_vec (float): lista de parâmetros reais\n",
        "\n",
        "    Saída:\n",
        "        qc: circuito quântico parametrizado com n qubits.\n",
        "\n",
        "    Métodos requeridos:\n",
        "        funcao_quadratica(matriz_incidencia, z)\n",
        "        operador_separador(num_qubits, matriz_incidencia, gama)\n",
        "        operador_misturador(num_qubits, beta)\n",
        "\n",
        "    '''\n",
        "\n",
        "    # Verificação da consistência dos dados de entrada\n",
        "\n",
        "    if type(num_qubits) != int:\n",
        "        return print(\"O primeiro argumento 'num_vertices' deve ser um inteiro.\")\n",
        "    if type(matriz_incidencia) != list:\n",
        "        return print(\"O segundo argumento 'matriz_incidencia' deve ser uma lista quadrada simétrica.\")\n",
        "    if num_qubits != len(matriz_incidencia):\n",
        "        return print(\"O comprimento da lista 'matriz_incidencia' deve ser igual ao primeiro argumento 'num_vertices'.\")\n",
        "    if type(p) != int:\n",
        "        return print(\"O terceiro argumento 'p' deve ser um inteiro.\")\n",
        "    if type(gama_vec) != list:\n",
        "        return print(\"O quarto argumento 'gama_vec' deve ser uma lista de floats.\")\n",
        "    if type(beta_vec) != list:\n",
        "        return print(\"O quinto argumento 'beta_vec' deve ser uma lista de floats.\")\n",
        "    if len(gama_vec) != p or len(beta_vec) != p:\n",
        "        return print(\"Os parâmetros 'gama_vec' e 'beta_vec' devem ter comprimento igual ao terceiro argumento 'p'.\")\n",
        "\n",
        "    # Código\n",
        "\n",
        "    # Construção do circuito\n",
        "\n",
        "    qc = QuantumCircuit(num_qubits, name = \"QAOA_Ansatz\")\n",
        "\n",
        "    for i in range(num_qubits):\n",
        "        qc.h(i)\n",
        "\n",
        "    qubits = range(num_qubits)\n",
        "    for i in range(p):\n",
        "        qc.append(operador_separador(num_qubits, matriz_incidencia, gama_vec[i]), qubits)\n",
        "        qc.append(operador_misturador(num_qubits, beta_vec[i]), qubits)\n",
        "\n",
        "    return qc"
      ],
      "metadata": {
        "id": "YM2dhbf1YWzJ"
      },
      "execution_count": null,
      "outputs": []
    },
    {
      "cell_type": "code",
      "source": [
        "def estado_base_max(qc, num_qubits):\n",
        "    '''\n",
        "    Determina o estado da base computacional que tem maior probabilidade no estado\n",
        "     gerado por um circuito quântico 'qc' num registro quântico com 'num_qubits' qubits.\n",
        "\n",
        "    Entradas:\n",
        "        qc (QuantumCircuit): circuito quântico\n",
        "        num_qubits (int): número de qubits do circuito\n",
        "\n",
        "    Saída:\n",
        "        string: o estado da base com maior probabilidade, na forma de string binária\n",
        "\n",
        "    Métodos:\n",
        "        qiskit.QuantumCircuit\n",
        "        qiskit.quantum_info.Statevector\n",
        "        numpy as np\n",
        "    '''\n",
        "\n",
        "    estado = Statevector.from_instruction(qc)\n",
        "    probabilidades = estado.probabilities()\n",
        "    estado_base_maximo = np.argmax(probabilidades)\n",
        "    return format(estado_base_maximo, f'0{num_qubits}b')"
      ],
      "metadata": {
        "id": "7nKIuQ1DTGDp"
      },
      "execution_count": null,
      "outputs": []
    },
    {
      "cell_type": "markdown",
      "source": [
        "# Testes"
      ],
      "metadata": {
        "id": "Py9iSsU-KgCT"
      }
    },
    {
      "cell_type": "markdown",
      "source": [
        "### Exemplo 1: Problema com 5 bits"
      ],
      "metadata": {
        "id": "NzG58ZuIPIOW"
      }
    },
    {
      "cell_type": "code",
      "source": [
        "'''\n",
        "Problema\n",
        "'''\n",
        "\n",
        "dimensao = 5\n",
        "print(f\"Dimensão do grafo: {dimensao}\")\n",
        "\n",
        "matriz_incidencia = [\n",
        "   [0,1,0,0,1],\n",
        "   [1,0,1,0,1],\n",
        "   [0,1,0,1,0],\n",
        "   [0,0,1,0,1],\n",
        "    [1,1,0,1,0]\n",
        "]\n",
        "print(\"Matriz de matriz_incidencia:\")\n",
        "display(matriz_incidencia)"
      ],
      "metadata": {
        "colab": {
          "base_uri": "https://localhost:8080/",
          "height": 139
        },
        "id": "BA09mXcigkS8",
        "outputId": "9d48df72-f4d9-4c35-854c-4563d03e1d79"
      },
      "execution_count": null,
      "outputs": [
        {
          "output_type": "stream",
          "name": "stdout",
          "text": [
            "Dimensão do grafo: 5\n",
            "Matriz de matriz_incidencia:\n"
          ]
        },
        {
          "output_type": "display_data",
          "data": {
            "text/plain": [
              "[[0, 1, 0, 0, 1],\n",
              " [1, 0, 1, 0, 1],\n",
              " [0, 1, 0, 1, 0],\n",
              " [0, 0, 1, 0, 1],\n",
              " [1, 1, 0, 1, 0]]"
            ]
          },
          "metadata": {}
        }
      ]
    },
    {
      "cell_type": "code",
      "source": [
        "'''\n",
        "Resolução Clássica\n",
        "'''\n",
        "\n",
        "max_valor, max_pontos = maximiza_quadratica(matriz_incidencia)\n",
        "max_base = [binario(z, dimensao) for z in max_pontos]\n",
        "\n",
        "print(f\"Valor máximo: {max_valor}\")\n",
        "print(f\"Valor máximo: {max_valor}\")\n",
        "print(f\"Ponto(s) de máximo: {max_pontos}\")\n",
        "print(f\"Estado(s) binários de máximo: {max_base}\")"
      ],
      "metadata": {
        "id": "bLeh9cm53Bao",
        "outputId": "e162beae-17b0-4bea-bcae-f30d398d013c",
        "colab": {
          "base_uri": "https://localhost:8080/"
        }
      },
      "execution_count": null,
      "outputs": [
        {
          "output_type": "stream",
          "name": "stdout",
          "text": [
            "Valor máximo: 12\n",
            "Valor máximo: 12\n",
            "Ponto(s) de máximo: [31]\n",
            "Estado(s) binários de máximo: [[1, 1, 1, 1, 1]]\n"
          ]
        }
      ]
    },
    {
      "cell_type": "code",
      "source": [
        "'''\n",
        "Estratégia QAOA\n",
        "'''\n",
        "import time\n",
        "inicio = time.time()\n",
        "\n",
        "# Número de qubits\n",
        "num_qubits = dimensao\n",
        "\n",
        "# Profundidade\n",
        "p = 4\n",
        "print(f\"Profundidade: {p} (tipo: {type(p)}\")\n",
        "\n",
        "# Parâmetros iniciais\n",
        "parametros_iniciais = [2*np.pi*np.random.random() for k in range(2*p)]\n",
        "print(f\"Parâmetros iniciais: {parametros_iniciais}\")\n",
        "\n",
        "# Negativo da função objetivo (para maximizar a função objetivo pelo 'minimize')\n",
        "def neg_funcao_ansatz(parametros, matriz_incidencia, num_qubits, p, estimator):\n",
        "    return -funcao_ansatz(matriz_incidencia, num_qubits, parametros, p, estimator)\n",
        "\n",
        "# Estimador\n",
        "estimator = Estimator()\n",
        "\n",
        "# Inicialização dos parâmetros\n",
        "\n",
        "parametros_iniciais = [2*np.pi*np.random.random() for k in range(2*p)]\n",
        "print(f\"Parâmetros iniciais aleatórios: {parametros_iniciais}\")\n",
        "valor_inicial = funcao_ansatz(matriz_incidencia, num_qubits, parametros_iniciais, p, estimator)\n",
        "print(f\"Valor inicial : {valor_inicial}\") # Corrected variable name\n",
        "\n",
        "# Maximização de funcao_ansatz pela minimização de -funcao_ansatz = neg_funcao_ansatz\n",
        "\n",
        "parametros = parametros_iniciais\n",
        "resultado = minimize(neg_funcao_ansatz, parametros, args = (matriz_incidencia, num_qubits, p, estimator), tol = 1/2**15, method=\"COBYQA\")\n",
        "\n",
        "parametros_max = resultado.x\n",
        "valor_max = - resultado.fun # destroca de sinal\n",
        "\n",
        "print(f\"Parâmetros finais: {parametros_max}\")\n",
        "print(f\"Valor máximo: {valor_max}\") # Corrected variable name\n",
        "\n",
        "print(f\"Processo bem sucedido?: {resultado.success}\")\n",
        "print(f\"Mensagem do Cobyqa: {resultado.message}\")\n",
        "\n",
        "fim = time.time()\n",
        "print(f\"Tempo de execução: {(fim - inicio)/60} minutos\")"
      ],
      "metadata": {
        "colab": {
          "base_uri": "https://localhost:8080/"
        },
        "id": "OGIORRQTSERP",
        "outputId": "23116fbc-d66c-458a-804f-9eb15e6f018a"
      },
      "execution_count": null,
      "outputs": [
        {
          "output_type": "stream",
          "name": "stdout",
          "text": [
            "Profundidade: 4 (tipo: <class 'int'>\n",
            "Parâmetros iniciais: [4.526589056930903, 0.6851040187370339, 5.964392812009014, 2.8222992738552635, 4.231968785214313, 2.408598493107031, 3.277861792162092, 5.471553050065457]\n",
            "Parâmetros iniciais aleatórios: [4.417429811401829, 2.0499840648588465, 5.290886533238799, 1.9443724382012322, 2.2989347293741145, 0.2548258753662529, 6.0097276141429745, 0.7801644053673604]\n",
            "Valor inicial : 3.2762303729692843\n",
            "Parâmetros finais: [5.52593435 1.40366312 5.97753197 1.1926181  2.84700199 1.95712499\n",
            " 5.42854548 0.56084203]\n",
            "Valor máximo: 5.9182363037831065\n",
            "Processo bem sucedido?: True\n",
            "Mensagem do Cobyqa: The lower bound for the trust-region radius has been reached\n",
            "Tempo de execução: 1.504777224858602 minutos\n"
          ]
        }
      ]
    },
    {
      "cell_type": "code",
      "source": [
        "'''\n",
        "Pós-processamento com o Sampler\n",
        "'''\n",
        "\n",
        "# Circuito\n",
        "\n",
        "gama_vec = list(parametros_max[:p])\n",
        "beta_vec = list(parametros_max[p:])\n",
        "\n",
        "circ = QAOA_Ansatz(num_qubits, matriz_incidencia, p, gama_vec, beta_vec)\n",
        "# Adicionando registros clássicos e medida:\n",
        "circ_medido = circ.measure_all(inplace=False) # 'inplace=False' porque o circuito não possui registros clássicos\n",
        "\n",
        "#Preparação do PUB\n",
        "parametros_pub = None\n",
        "pubs = [(circ_medido, parametros_pub)]\n",
        "\n",
        "#Execução do Sampler\n",
        "job = sampler.run(pubs, shots = 2**12)\n",
        "\n",
        "# Resultado:\n",
        "print('Resultado do Sampler:')\n",
        "result = job.result()\n",
        "resultado = result[0].data['meas'].get_counts()\n",
        "print(resultado)\n",
        "\n",
        "lista_bits = list(resultado.keys())\n",
        "lista_valores = list(resultado.values())\n",
        "\n",
        "estado_maximal = lista_bits[np.argmax(np.abs(lista_valores))]\n",
        "print(f\"Estado maximal: {estado_maximal}\")\n",
        "\n",
        "z_maximal = int(estado_maximal,2)\n",
        "z_maximal_bits = binario(z_maximal, dimensao)\n",
        "print(f\"Ponto de máximo: {z_maximal_bits}\")\n",
        "valor_maximal = funcao_quadratica(matriz_incidencia, z_maximal_bits)\n",
        "print(f\"Valor máximo: {valor_maximal}\")\n",
        "\n",
        "# Partição de corte máximo\n",
        "# A = []; B = []\n",
        "# for k in range(num_vertices):\n",
        "#     if estado_maxcut[k] == '1':\n",
        "#         A.append(k)\n",
        "#     else:\n",
        "#         B.append(k)\n",
        "# print(f\"Corte Máximo: {Corte(pesos, A)}. Partição de corte máximo: {(A,B)}\")"
      ],
      "metadata": {
        "colab": {
          "base_uri": "https://localhost:8080/"
        },
        "id": "jBvt_TnmG2YJ",
        "outputId": "18a28e29-642b-4fc4-bb64-5f6a4f7411e5"
      },
      "execution_count": null,
      "outputs": [
        {
          "output_type": "stream",
          "name": "stdout",
          "text": [
            "Resultado do Sampler:\n",
            "{'11111': 2006, '10011': 52, '00000': 1951, '01100': 48, '11000': 4, '11001': 9, '00111': 12, '00110': 8, '01110': 2, '10101': 1, '00100': 1, '00001': 1, '11010': 1}\n",
            "Estado maximal: 11111\n",
            "Ponto de máximo: [1, 1, 1, 1, 1]\n",
            "Valor máximo: 12\n"
          ]
        }
      ]
    }
  ]
}
